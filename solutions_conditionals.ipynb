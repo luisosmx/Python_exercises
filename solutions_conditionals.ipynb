{
  "nbformat": 4,
  "nbformat_minor": 0,
  "metadata": {
    "colab": {
      "provenance": [],
      "authorship_tag": "ABX9TyNwEP5hzNcsIeXT5YBU+rDX",
      "include_colab_link": true
    },
    "kernelspec": {
      "name": "python3",
      "display_name": "Python 3"
    },
    "language_info": {
      "name": "python"
    }
  },
  "cells": [
    {
      "cell_type": "markdown",
      "metadata": {
        "id": "view-in-github",
        "colab_type": "text"
      },
      "source": [
        "<a href=\"https://colab.research.google.com/github/luisosmx/Python_exercises/blob/main/solutions_conditionals.ipynb\" target=\"_parent\"><img src=\"https://colab.research.google.com/assets/colab-badge.svg\" alt=\"Open In Colab\"/></a>"
      ]
    },
    {
      "cell_type": "markdown",
      "source": [
        "\n",
        "## Solution 1:\n"
      ],
      "metadata": {
        "id": "hEe5MZUk7Bjp"
      }
    },
    {
      "cell_type": "code",
      "execution_count": null,
      "metadata": {
        "id": "JjoELkeAmv6z"
      },
      "outputs": [],
      "source": [
        "number = float(input(\"Enter a number: \"))\n",
        "\n",
        "if number > 0:\n",
        "    print(\"The number is positive.\")\n",
        "elif number < 0:\n",
        "    print(\"The number is negative.\")\n",
        "else:\n",
        "    print(\"The number is zero.\")\n",
        "\n"
      ]
    },
    {
      "cell_type": "markdown",
      "source": [
        "## Solution 2:\n"
      ],
      "metadata": {
        "id": "-qPXPU1y7Hlp"
      }
    },
    {
      "cell_type": "code",
      "source": [
        "num1 = int(input(\"Enter the first number: \"))\n",
        "num2 = int(input(\"Enter the second number: \"))\n",
        "\n",
        "if num1 % num2 == 0:\n",
        "    print(f\"{num1} is divisible by {num2}.\")\n",
        "else:\n",
        "    print(f\"{num1} is not divisible by {num2}.\")\n"
      ],
      "metadata": {
        "id": "xl_21QiLm7XA"
      },
      "execution_count": null,
      "outputs": []
    },
    {
      "cell_type": "markdown",
      "source": [
        "## Solution 3:\n"
      ],
      "metadata": {
        "id": "SWruKl4P8CIM"
      }
    },
    {
      "cell_type": "code",
      "source": [
        "age = int(input(\"Enter your age: \"))\n",
        "\n",
        "if age <= 12:\n",
        "    print(\"You are a child.\")\n",
        "elif 13 <= age <= 17:\n",
        "    print(\"You are a teenager.\")\n",
        "elif 18 <= age <= 64:\n",
        "    print(\"You are an adult.\")\n",
        "else:\n",
        "    print(\"You are a senior citizen.\")\n"
      ],
      "metadata": {
        "id": "85GE_31B7SIn"
      },
      "execution_count": null,
      "outputs": []
    },
    {
      "cell_type": "markdown",
      "source": [
        "## Solution 5:\n"
      ],
      "metadata": {
        "id": "DunAcly48L07"
      }
    },
    {
      "cell_type": "code",
      "source": [
        "num1 = float(input(\"Enter the first number: \"))\n",
        "num2 = float(input(\"Enter the second number: \"))\n",
        "num3 = float(input(\"Enter the third number: \"))\n",
        "\n",
        "max_number = max(num1, num2, num3)\n",
        "print(f\"The largest number is: {max_number}\")\n"
      ],
      "metadata": {
        "id": "aBcnTMjN8QRm"
      },
      "execution_count": null,
      "outputs": []
    }
  ]
}