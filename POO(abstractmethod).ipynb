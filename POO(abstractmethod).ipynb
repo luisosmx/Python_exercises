{
  "nbformat": 4,
  "nbformat_minor": 0,
  "metadata": {
    "colab": {
      "provenance": [],
      "authorship_tag": "ABX9TyPMPf9DuGHVeflXa0WVNLcW",
      "include_colab_link": true
    },
    "kernelspec": {
      "name": "python3",
      "display_name": "Python 3"
    },
    "language_info": {
      "name": "python"
    }
  },
  "cells": [
    {
      "cell_type": "markdown",
      "metadata": {
        "id": "view-in-github",
        "colab_type": "text"
      },
      "source": [
        "<a href=\"https://colab.research.google.com/github/luisosmx/Python_exercises/blob/main/POO(abstractmethod).ipynb\" target=\"_parent\"><img src=\"https://colab.research.google.com/assets/colab-badge.svg\" alt=\"Open In Colab\"/></a>"
      ]
    },
    {
      "cell_type": "code",
      "execution_count": 1,
      "metadata": {
        "colab": {
          "base_uri": "https://localhost:8080/"
        },
        "id": "FkAdDBDqySzB",
        "outputId": "9c693f2a-4634-4f3c-f7ba-275ff1739285"
      },
      "outputs": [
        {
          "output_type": "stream",
          "name": "stdout",
          "text": [
            "Method 1 in Father_Class with value: 42\n",
            "Method 2 in Father_Class\n",
            "Method 3 in Father_Class\n",
            "Method 1 in Father_Class with value: 10\n",
            "Method 2 in Child_Class\n",
            "Method 3 in Father_Class\n"
          ]
        }
      ],
      "source": [
        "class Father_Class:\n",
        "    def __init__(self, value):\n",
        "        self.value = value\n",
        "\n",
        "    def method1(self):\n",
        "        print(f\"Method 1 in Father_Class with value: {self.value}\")\n",
        "\n",
        "    def method2(self):\n",
        "        print(\"Method 2 in Father_Class\")\n",
        "\n",
        "    def method3(self):\n",
        "        print(\"Method 3 in Father_Class\")\n",
        "\n",
        "object_base = Father_Class(value=42)\n",
        "object_base.method1()\n",
        "object_base.method2()\n",
        "object_base.method3()\n",
        "\n",
        "class Child_Class(Father_Class):\n",
        "    def __init__(self, value, additional_value):\n",
        "        super().__init__(value)\n",
        "        self.additional_value = additional_value\n",
        "\n",
        "    def method2(self):\n",
        "        print(\"Method 2 in Child_Class\")\n",
        "\n",
        "object_child = Child_Class(value=10, additional_value=5)\n",
        "object_child.method1()\n",
        "object_child.method2()\n",
        "object_child.method3()"
      ]
    },
    {
      "cell_type": "code",
      "source": [
        "from abc import ABC, abstractmethod\n",
        "\n",
        "class AbstractClass(ABC):\n",
        "    @abstractmethod\n",
        "    def abstract_method1(self):\n",
        "        pass\n",
        "\n",
        "    @abstractmethod\n",
        "    def abstract_method2(self):\n",
        "        pass\n",
        "\n",
        "class Father_Class(AbstractClass):\n",
        "    def abstract_method1(self):\n",
        "        print(\"Implementation of abstract_method1 in Father_Class\")\n",
        "\n",
        "    def abstract_method2(self):\n",
        "        print(\"Implementation of abstract_method2 in Father_Class\")\n",
        "\n",
        "class Child_Class(Father_Class):\n",
        "    def new_method(self):\n",
        "        print(\"New method in Child_Class\")\n",
        "\n",
        "object_child2 = Child_Class()\n",
        "object_child2.abstract_method1()\n",
        "object_child2.abstract_method2()\n",
        "object_child2.new_method()"
      ],
      "metadata": {
        "colab": {
          "base_uri": "https://localhost:8080/"
        },
        "id": "ogg3bvPByclj",
        "outputId": "0ae9b2db-574e-41d4-f890-f460abaef38b"
      },
      "execution_count": 2,
      "outputs": [
        {
          "output_type": "stream",
          "name": "stdout",
          "text": [
            "Implementation of abstract_method1 in Father_Class\n",
            "Implementation of abstract_method2 in Father_Class\n",
            "New method in Child_Class\n"
          ]
        }
      ]
    },
    {
      "cell_type": "code",
      "source": [],
      "metadata": {
        "id": "PEgnbhnjymR_"
      },
      "execution_count": null,
      "outputs": []
    }
  ]
}