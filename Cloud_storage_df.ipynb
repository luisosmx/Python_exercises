{
  "nbformat": 4,
  "nbformat_minor": 0,
  "metadata": {
    "colab": {
      "provenance": [],
      "authorship_tag": "ABX9TyMBTIXv4CuOJsocAXrSaslR",
      "include_colab_link": true
    },
    "kernelspec": {
      "name": "python3",
      "display_name": "Python 3"
    },
    "language_info": {
      "name": "python"
    }
  },
  "cells": [
    {
      "cell_type": "markdown",
      "metadata": {
        "id": "view-in-github",
        "colab_type": "text"
      },
      "source": [
        "<a href=\"https://colab.research.google.com/github/luisosmx/Python_exercises/blob/main/Cloud_storage_df.ipynb\" target=\"_parent\"><img src=\"https://colab.research.google.com/assets/colab-badge.svg\" alt=\"Open In Colab\"/></a>"
      ]
    },
    {
      "cell_type": "markdown",
      "source": [
        "##Download Cloud Storage libraries\n"
      ],
      "metadata": {
        "id": "CxdI-ZtC8TPu"
      }
    },
    {
      "cell_type": "code",
      "execution_count": null,
      "metadata": {
        "id": "dIqrPr6HsrlO"
      },
      "outputs": [],
      "source": [
        "!pip install google-cloud-storage\n",
        "!pip install pandas google-cloud-storage\n"
      ]
    },
    {
      "cell_type": "markdown",
      "source": [
        "#Download files from Cloud Storage"
      ],
      "metadata": {
        "id": "UgZrw7TU8SLF"
      }
    },
    {
      "cell_type": "code",
      "source": [
        "from google.cloud import storage\n",
        "import os\n",
        "import pandas as pd\n",
        "\n",
        "# Configura la variable de entorno para las credenciales\n",
        "os.environ['GOOGLE_APPLICATION_CREDENTIALS'] = '/path/file.json'\n",
        "\n",
        "# Crea un cliente de almacenamiento\n",
        "storage_client = storage.Client()\n",
        "\n",
        "# Nombre del bucket y objeto que deseas leer\n",
        "bucket_name = 'bucketdata_storage'\n",
        "object_name = '/content/inah_visitantes_zonas_general_anual_2023.csv'\n",
        "destination = '/content/file.csv'\n",
        "# Obtiene el objeto\n",
        "bucket = storage_client.bucket(bucket_name)\n",
        "blob = bucket.blob(object_name)\n",
        "#Descarga el contenido del objeto como bytes\n",
        "blob.download_to_filename(destination)\n",
        "print(\"Archivo descargado como 'file.csv\")"
      ],
      "metadata": {
        "id": "OOUbGe-5GroW"
      },
      "execution_count": null,
      "outputs": []
    },
    {
      "cell_type": "markdown",
      "source": [
        "##Clean files"
      ],
      "metadata": {
        "id": "rSTUojeQG2dC"
      }
    },
    {
      "cell_type": "code",
      "source": [
        "\n",
        "# making dataframe\n",
        "df = pd.read_csv(destination, encoding='latin-1')\n",
        "column_names = df.columns.tolist()\n",
        "\n",
        "# Lista de nombres de todas las columnas\n",
        "all_column_names = ['Estado', 'Clave SIINAH', 'Tipo', 'Centro INAH', 'enero', 'Unnamed: 5', 'febrero', 'Unnamed: 7', 'marzo', 'Unnamed: 9', 'abril', 'Unnamed: 11', 'mayo', 'Unnamed: 13', 'junio', 'Unnamed: 15', 'julio', 'Unnamed: 17']\n",
        "\n",
        "# Nombres de las columnas que deseas mantener\n",
        "filter_column = ['estado', 'tipo', 'centro_inah', 'enero', 'febrero', 'marzo', 'abril', 'mayo', 'junio', 'julio']\n",
        "\n",
        "# Filtra los nombres de las columnas que coinciden con los que deseas mantener\n",
        "filtered_column_names = [col for col in all_column_names if col in filter_column]\n",
        "\n",
        "filtered_df = df.loc[:, filtered_column_names]\n",
        "new_column_names = ['estado', 'tipo', 'centro_inah', 'enero', 'febrero', 'marzo', 'abril', 'mayo', 'junio', 'julio']\n",
        "df.columns = new_column_names\n"
      ],
      "metadata": {
        "id": "loDTnK1lwlnF"
      },
      "execution_count": null,
      "outputs": []
    },
    {
      "cell_type": "code",
      "source": [
        "df_types = df.dtypes\n",
        "print(df_types)"
      ],
      "metadata": {
        "colab": {
          "base_uri": "https://localhost:8080/"
        },
        "id": "1EcIS985w76D",
        "outputId": "5d93959a-1e5a-41c7-86e0-6a16ee59d8ff"
      },
      "execution_count": null,
      "outputs": [
        {
          "output_type": "stream",
          "name": "stdout",
          "text": [
            "estado         object\n",
            "tipo           object\n",
            "centro_inah    object\n",
            "enero          object\n",
            "febrero        object\n",
            "marzo          object\n",
            "abril          object\n",
            "mayo           object\n",
            "junio          object\n",
            "julio          object\n",
            "dtype: object\n"
          ]
        }
      ]
    },
    {
      "cell_type": "code",
      "source": [
        "dframe = df_types.astype(str)\n",
        "print(dframe)"
      ],
      "metadata": {
        "colab": {
          "base_uri": "https://localhost:8080/"
        },
        "id": "2w5WbDKo0kZM",
        "outputId": "a291213d-c4cb-4973-a946-fd4c501e345a"
      },
      "execution_count": null,
      "outputs": [
        {
          "output_type": "stream",
          "name": "stdout",
          "text": [
            "estado         object\n",
            "tipo           object\n",
            "centro_inah    object\n",
            "enero          object\n",
            "febrero        object\n",
            "marzo          object\n",
            "abril          object\n",
            "mayo           object\n",
            "junio          object\n",
            "julio          object\n",
            "dtype: object\n"
          ]
        }
      ]
    },
    {
      "cell_type": "code",
      "source": [
        "from google.cloud import bigquery\n",
        "import os\n",
        "\n",
        "os.environ['GOOGLE_APPLICATION_CREDENTIALS'] = '/path/file.json'\n",
        "\n",
        "client = bigquery.Client()\n",
        "table_id = \"data-project-395314.data_project.inah_visitantes\"\n",
        "\n",
        "job_config = bigquery.LoadJobConfig(\n",
        "    # Specify a (partial) schema. All columns are always written to the\n",
        "    # table. The schema is used to assist in data type definitions.\n",
        "    schema=[\n",
        "        bigquery.SchemaField(\"estado\", \"STRING\"),\n",
        "        bigquery.SchemaField(\"tipo\", \"STRING\"),\n",
        "        bigquery.SchemaField(\"centro_inah\", \"STRING\"),\n",
        "        bigquery.SchemaField(\"enero\", \"STRING\"),\n",
        "        bigquery.SchemaField(\"febrero\", \"STRING\"),\n",
        "        bigquery.SchemaField(\"marzo\", \"STRING\"),\n",
        "        bigquery.SchemaField(\"abril\", \"STRING\"),\n",
        "        bigquery.SchemaField(\"mayo\", \"STRING\"),\n",
        "        bigquery.SchemaField(\"junio\", \"STRING\"),\n",
        "        bigquery.SchemaField(\"julio\", \"STRING\"),\n",
        "    ],\n",
        "    # Optionally, set the write disposition. BigQuery appends loaded rows\n",
        "    # to an existing table by default, but with WRITE_TRUNCATE write\n",
        "    # disposition it replaces the table with the loaded data.\n",
        "    write_disposition=\"WRITE_TRUNCATE\",\n",
        ")\n",
        "\n",
        "job = client.load_table_from_dataframe(\n",
        "    df, table_id, job_config=job_config\n",
        ")  # Make an API request.\n",
        "job.result()  # Wait for the job to complete.\n",
        "\n",
        "table = client.get_table(table_id)  # Make an API request.\n",
        "print(\n",
        "    \"Loaded {} rows and {} columns to {}\".format(\n",
        "        table.num_rows, len(table.schema), table_id\n",
        "    )\n",
        ")\n"
      ],
      "metadata": {
        "colab": {
          "base_uri": "https://localhost:8080/"
        },
        "id": "ImCwhcveDhFs",
        "outputId": "481f72f8-58ad-4f9b-a1d1-e60f5466eab7"
      },
      "execution_count": null,
      "outputs": [
        {
          "output_type": "stream",
          "name": "stdout",
          "text": [
            "Loaded 177 rows and 10 columns to data-project-395314.data_project.inah_visitantes\n"
          ]
        }
      ]
    },
    {
      "cell_type": "code",
      "source": [],
      "metadata": {
        "id": "Gcu_9EMBlgc8"
      },
      "execution_count": null,
      "outputs": []
    }
  ]
}