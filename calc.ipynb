{
  "nbformat": 4,
  "nbformat_minor": 0,
  "metadata": {
    "colab": {
      "provenance": [],
      "authorship_tag": "ABX9TyMd8f9XLkOvDdNBYcqnLuF/",
      "include_colab_link": true
    },
    "kernelspec": {
      "name": "python3",
      "display_name": "Python 3"
    },
    "language_info": {
      "name": "python"
    }
  },
  "cells": [
    {
      "cell_type": "markdown",
      "metadata": {
        "id": "view-in-github",
        "colab_type": "text"
      },
      "source": [
        "<a href=\"https://colab.research.google.com/github/luisosmx/Python_exercises/blob/main/calc.ipynb\" target=\"_parent\"><img src=\"https://colab.research.google.com/assets/colab-badge.svg\" alt=\"Open In Colab\"/></a>"
      ]
    },
    {
      "cell_type": "code",
      "execution_count": null,
      "metadata": {
        "id": "EdfRIPQSrkX5"
      },
      "outputs": [],
      "source": [
        "def get_fractions(frac_str):\n",
        "    if isinstance(frac_str, (int, float)):\n",
        "        return frac_str\n",
        "\n",
        "    if \"/\" not in frac_str:\n",
        "        return float(frac_str)\n",
        "    try:\n",
        "        return float(frac_str)\n",
        "    except ValueError:\n",
        "        num, denom = frac_str.split(\"/\")\n",
        "        try:\n",
        "            leading, num = num.split(\" \")\n",
        "            whole = float(leading)\n",
        "        except ValueError:\n",
        "            whole = 0\n",
        "        frac = float(num) / float(denom)\n",
        "        return whole - frac if whole < 0 else whole + frac\n",
        "\n",
        "\n",
        "def sum(x, y):\n",
        "\n",
        "    # This function performs the SUM operation\n",
        "    # x takes any value and makes it to Float\n",
        "    # and take any value and make it to Float\n",
        "\n",
        "    try:\n",
        "        try:\n",
        "            if len(x.split(\"/\")) > 0:\n",
        "                x = float(x.split(\"/\")[0]) / float(x.split(\"/\")[1])\n",
        "\n",
        "            if len(y.split(\"/\")) > 0:\n",
        "                y = float(y.split(\"/\")[0]) / float(y.split(\"/\")[1])\n",
        "\n",
        "        except:\n",
        "            x = float(x)\n",
        "            y = float(y)\n",
        "\n",
        "        return x + y\n",
        "\n",
        "    except:\n",
        "        print(\"The operation cannot be performed :( \")\n",
        "\n",
        "\n",
        "def substract(a, b):\n",
        "    minuendo = get_fractions(a)\n",
        "    sustraendo = get_fractions(b)\n",
        "    return minuendo - sustraendo\n",
        "\n",
        "\n",
        "def multiply(a, b):\n",
        "    multiply = get_fractions(a)\n",
        "    multiply = get_fractions(b)\n",
        "    return multiply * multiply\n",
        "\n",
        "\n",
        "def divide(a, b):\n",
        "    dividendo = get_fractions(a)\n",
        "    divisor = get_fractions(b)\n",
        "    try:\n",
        "        return dividendo / divisor\n",
        "    except ZeroDivisionError:\n",
        "        return \"Division between zero\""
      ]
    }
  ]
}