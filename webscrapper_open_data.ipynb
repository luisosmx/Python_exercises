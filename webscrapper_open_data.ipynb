{
  "nbformat": 4,
  "nbformat_minor": 0,
  "metadata": {
    "colab": {
      "provenance": [],
      "authorship_tag": "ABX9TyNa8RQHc3V4VPHS0pCBNMix",
      "include_colab_link": true
    },
    "kernelspec": {
      "name": "python3",
      "display_name": "Python 3"
    },
    "language_info": {
      "name": "python"
    }
  },
  "cells": [
    {
      "cell_type": "markdown",
      "metadata": {
        "id": "view-in-github",
        "colab_type": "text"
      },
      "source": [
        "<a href=\"https://colab.research.google.com/github/luisosmx/Python_exercises/blob/main/webscrapper_open_data.ipynb\" target=\"_parent\"><img src=\"https://colab.research.google.com/assets/colab-badge.svg\" alt=\"Open In Colab\"/></a>"
      ]
    },
    {
      "cell_type": "code",
      "execution_count": null,
      "metadata": {
        "id": "bC-_2yUoV5MX"
      },
      "outputs": [],
      "source": [
        "from bs4 import BeautifulSoup\n",
        "import requests\n",
        "import shutil\n",
        "\n",
        "from urllib.parse import urlparse\n",
        "from pathlib import Path\n",
        "\n",
        "\n",
        "MAIN_LINK_1 = 'https://datos.cdmx.gob.mx/dataset/afluencia-diaria-de-metrobus-cdmx'\n",
        "MAIN_LINK_2 = 'https://datos.cdmx.gob.mx/dataset/inmuebles-catalogados'\n",
        "\n",
        "# Making a GET request\n",
        "r = requests.get(MAIN_LINK_1)\n",
        "\n",
        "soup = BeautifulSoup(r.text, 'html.parser')\n",
        "\n",
        "# Find all hyperlinks present on webpage\n",
        "links = soup.find_all('a')\n",
        "# print(links)\n",
        "i = 0\n",
        "\n",
        "# From all links check for pdf link and\n",
        "# if present download file\n",
        "for link in links:\n",
        "    # Uncomment the following line to process\n",
        "    # an specific number of files\n",
        "    if i == 3:\n",
        "        break\n",
        "    if ('.csv' in link.get('href', [])):\n",
        "\n",
        "        download_link = link.get('href')\n",
        "        print(download_link)\n",
        "        parsed_url = urlparse(download_link)\n",
        "        path = parsed_url.path\n",
        "        file_name = Path(path).name\n",
        "\n",
        "        print(f\"Downloading file number {i+1}: {download_link}\")\n",
        "\n",
        "        # Get response object for link\n",
        "        response = requests.get(download_link)\n",
        "\n",
        "        # Write content in pdf file\n",
        "        with open(f\"{file_name}\", 'wb') as csv:\n",
        "            csv.write(response.content)\n",
        "\n",
        "        print(f\"File {i+1}: {file_name} downloaded\")\n",
        "\n",
        "        i += 1\n",
        "\n",
        "    if ('.json' in link.get('href', [])):\n",
        "\n",
        "        download_link = link.get('href')\n",
        "        print(download_link)\n",
        "        parsed_url = urlparse(download_link)\n",
        "        path = parsed_url.path\n",
        "        file_name = Path(path).name\n",
        "\n",
        "        print(f\"Downloading file number {i+1}: {download_link}\")\n",
        "\n",
        "        # Get response object for link\n",
        "        response = requests.get(download_link)\n",
        "\n",
        "        # Write content in pdf file\n",
        "        with open(f\"{file_name}\", 'wb') as csv:\n",
        "            csv.write(response.content)\n",
        "\n",
        "        print(f\"File {i+1}: {file_name} downloaded\")\n",
        "\n",
        "        i += 1\n",
        "\n"
      ]
    }
  ]
}