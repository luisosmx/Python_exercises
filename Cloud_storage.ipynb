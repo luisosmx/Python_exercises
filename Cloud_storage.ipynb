{
  "nbformat": 4,
  "nbformat_minor": 0,
  "metadata": {
    "colab": {
      "provenance": [],
      "authorship_tag": "ABX9TyMqADYehDtuuMote7nLyFk+",
      "include_colab_link": true
    },
    "kernelspec": {
      "name": "python3",
      "display_name": "Python 3"
    },
    "language_info": {
      "name": "python"
    }
  },
  "cells": [
    {
      "cell_type": "markdown",
      "metadata": {
        "id": "view-in-github",
        "colab_type": "text"
      },
      "source": [
        "<a href=\"https://colab.research.google.com/github/luisosmx/Python_exercises/blob/main/Cloud_storage.ipynb\" target=\"_parent\"><img src=\"https://colab.research.google.com/assets/colab-badge.svg\" alt=\"Open In Colab\"/></a>"
      ]
    },
    {
      "cell_type": "code",
      "execution_count": null,
      "metadata": {
        "id": "dIqrPr6HsrlO"
      },
      "outputs": [],
      "source": [
        "!pip install google-cloud-storage\n",
        "!pip install pandas google-cloud-storage\n"
      ]
    },
    {
      "cell_type": "code",
      "source": [
        "from google.cloud import storage\n",
        "import os\n",
        "import pandas as pd\n",
        "\n",
        "# Configura la variable de entorno para las credenciales\n",
        "os.environ['GOOGLE_APPLICATION_CREDENTIALS'] = '/path/file.json'\n",
        "\n",
        "# Crea un cliente de almacenamiento\n",
        "storage_client = storage.Client()\n",
        "\n",
        "# Nombre del bucket y objeto que deseas leer\n",
        "bucket_name = 'bucketdata_storage'\n",
        "object_name = '/content/inah_visitantes_zonas_general_anual_2023.csv'\n",
        "destination = '/content/file.csv'\n",
        "# Obtiene el objeto\n",
        "bucket = storage_client.bucket(bucket_name)\n",
        "blob = bucket.blob(object_name)\n",
        "print(blob)\n",
        "#Descarga el contenido del objeto como bytes\n",
        "blob.download_to_filename(destination)\n",
        "\n",
        "# Ahora puedes trabajar con los bytes como mejor te convenga\n",
        "\n",
        "\n",
        "print(\"Archivo descargado como 'file.csv\")\n",
        "# making dataframe\n",
        "df = pd.read_csv(destination, encoding='latin-1')\n",
        "\n",
        "# output the dataframe\n",
        "print(df.head(10))"
      ],
      "metadata": {
        "colab": {
          "base_uri": "https://localhost:8080/"
        },
        "id": "loDTnK1lwlnF",
        "outputId": "60c2e218-1740-4a19-e225-938216c625f4"
      },
      "execution_count": null,
      "outputs": [
        {
          "output_type": "stream",
          "name": "stdout",
          "text": [
            "<Blob: bucketdata_storage, /content/inah_visitantes_zonas_general_anual_2023.csv, None>\n",
            "Archivo descargado como 'file.csv\n",
            "                Estado  Clave SIINAH  Tipo  \\\n",
            "0                  NaN           NaN   NaN   \n",
            "1      Baja California     3120040.0  Z.A.   \n",
            "2  Baja California Sur     3120007.0  Z.A.   \n",
            "3             Campeche     3120005.0  Z.A.   \n",
            "4             Campeche     3110002.0  Z.A.   \n",
            "5             Campeche     3120008.0  Z.A.   \n",
            "6             Campeche     3120017.0  Z.A.   \n",
            "7             Campeche     3120020.0  Z.A.   \n",
            "8             Campeche     3110011.0  Z.A.   \n",
            "9             Campeche     3110012.0  Z.A.   \n",
            "\n",
            "                          Centro INAH  enero Unnamed: 5 febrero Unnamed: 7  \\\n",
            "0                                 NaN   NAC.       EXT.    NAC.       EXT.   \n",
            "1                Z.A. de El Vallecito    610          6   1,143         16   \n",
            "2  Z.A. de San Francisco de la Sierra    128         19       0          0   \n",
            "3                     Z.A. de Balamkú    336        310     252        393   \n",
            "4                       Z.A. de Becán    963      1,017     687      1,169   \n",
            "5                    Z.A. de Calakmul  1,943      3,050   1,243      3,096   \n",
            "6                    Z.A. de Chicanná    279        400     433        542   \n",
            "7                   Z.A. de Chunhuhub     66          2      54          1   \n",
            "8                 Z.A. de Dzibilnocac    542          8     297          9   \n",
            "9                       Z.A. de Edzná  3,330        920   2,749        982   \n",
            "\n",
            "   marzo Unnamed: 9  abril Unnamed: 11   mayo Unnamed: 13  junio Unnamed: 15  \\\n",
            "0   NAC.       EXT.   NAC.        EXT.   NAC.        EXT.   NAC.        EXT.   \n",
            "1    815          9  1,627           6  1,236           4  1,215           0   \n",
            "2    316        282    162           0    225          61      0           0   \n",
            "3    234        235    484         165    332         155    254          76   \n",
            "4    594      1,039  1,150         632    540         422    539         259   \n",
            "5  1,257      2,743  2,614       2,116    886       1,390    691         808   \n",
            "6    291        687    426         339    196         241    164         153   \n",
            "7     71          9     77           7     49           3     82           0   \n",
            "8    223         14    433           4    555           1    135           3   \n",
            "9  2,548        961  4,437         726  1,921         357  1,916         257   \n",
            "\n",
            "   julio Unnamed: 17  \n",
            "0   NAC.        EXT.  \n",
            "1    533           4  \n",
            "2    264          20  \n",
            "3    605         235  \n",
            "4    978         783  \n",
            "5  1,438       2,525  \n",
            "6    422         327  \n",
            "7     70           1  \n",
            "8    304           4  \n",
            "9  3,659         621  \n"
          ]
        }
      ]
    },
    {
      "cell_type": "code",
      "source": [
        "column_names = df.columns.tolist()\n",
        "\n",
        "print(column_names)\n"
      ],
      "metadata": {
        "colab": {
          "base_uri": "https://localhost:8080/"
        },
        "id": "ryG38ld1c-YU",
        "outputId": "1a6d12fa-fc93-4049-8181-259322e8007c"
      },
      "execution_count": null,
      "outputs": [
        {
          "output_type": "stream",
          "name": "stdout",
          "text": [
            "['Estado', 'Clave SIINAH', 'Tipo', 'Centro INAH', 'enero', 'Unnamed: 5', 'febrero', 'Unnamed: 7', 'marzo', 'Unnamed: 9', 'abril', 'Unnamed: 11', 'mayo', 'Unnamed: 13', 'junio', 'Unnamed: 15', 'julio', 'Unnamed: 17']\n"
          ]
        }
      ]
    },
    {
      "cell_type": "code",
      "source": [
        "# Lista de nombres de todas las columnas\n",
        "all_column_names = ['Estado', 'Clave SIINAH', 'Tipo', 'Centro INAH', 'enero', 'Unnamed: 5', 'febrero', 'Unnamed: 7', 'marzo', 'Unnamed: 9', 'abril', 'Unnamed: 11', 'mayo', 'Unnamed: 13', 'junio', 'Unnamed: 15', 'julio', 'Unnamed: 17']\n",
        "\n",
        "# Nombres de las columnas que deseas mantener\n",
        "filter_column = ['estado', 'tipo', 'centro_inah', 'enero', 'febrero', 'marzo', 'abril', 'mayo', 'junio', 'julio']\n",
        "\n",
        "# Filtra los nombres de las columnas que coinciden con los que deseas mantener\n",
        "filtered_column_names = [col for col in all_column_names if col in filter_column]\n",
        "\n",
        "filtered_df = df.loc[:, filtered_column_names]\n",
        "new_column_names = ['estado', 'tipo', 'centro_inah', 'enero', 'febrero', 'marzo', 'abril', 'mayo', 'junio', 'julio']\n",
        "df.columns = new_column_names\n",
        "#df = filtered_df.drop(1)\n",
        "# Imprimir el DataFrame filtrado\n",
        "print(df)\n"
      ],
      "metadata": {
        "colab": {
          "base_uri": "https://localhost:8080/"
        },
        "id": "p4DgzZZkdqE7",
        "outputId": "a2dba2ca-9a7c-4115-b013-1f35f8efe68c"
      },
      "execution_count": null,
      "outputs": [
        {
          "output_type": "stream",
          "name": "stdout",
          "text": [
            "                  estado  tipo  \\\n",
            "0                    NaN   NaN   \n",
            "2    Baja California Sur  Z.A.   \n",
            "3               Campeche  Z.A.   \n",
            "4               Campeche  Z.A.   \n",
            "5               Campeche  Z.A.   \n",
            "..                   ...   ...   \n",
            "173              Yucatán  Z.A.   \n",
            "174            Zacatecas  Z.A.   \n",
            "175            Zacatecas  Z.A.   \n",
            "176            Zacatecas  Z.A.   \n",
            "177            Zacatecas  Z.A.   \n",
            "\n",
            "                                           centro_inah  enero febrero  marzo  \\\n",
            "0                                                  NaN   NAC.    NAC.   NAC.   \n",
            "2                   Z.A. de San Francisco de la Sierra    128       0    316   \n",
            "3                                      Z.A. de Balamkú    336     252    234   \n",
            "4                                        Z.A. de Becán    963     687    594   \n",
            "5                                     Z.A. de Calakmul  1,943   1,243  1,257   \n",
            "..                                                 ...    ...     ...    ...   \n",
            "173                                     Z.A. de Xcambó  1,406   1,145  1,188   \n",
            "174  Z.A. de Altavista o Chalchihuites con museo de...    240     236  1,227   \n",
            "175              Z.A. de La Quemada con museo de sitio    882     855  2,877   \n",
            "176                                Z.A. Cerro del Teúl    402     229    512   \n",
            "177                         Z.A. Cerro de las Ventanas    329     223    750   \n",
            "\n",
            "     abril   mayo junio  julio  \n",
            "0     NAC.   NAC.  NAC.   NAC.  \n",
            "2      162    225     0    264  \n",
            "3      484    332   254    605  \n",
            "4    1,150    540   539    978  \n",
            "5    2,614    886   691  1,438  \n",
            "..     ...    ...   ...    ...  \n",
            "173    619  1,059   876  1,186  \n",
            "174    705    438   415    567  \n",
            "175  1,495    797   771  2,127  \n",
            "176  1,277    310   188    555  \n",
            "177    877    357   322    646  \n",
            "\n",
            "[177 rows x 10 columns]\n"
          ]
        }
      ]
    },
    {
      "cell_type": "code",
      "source": [
        "df_types = df.dtypes\n",
        "print(df_types)"
      ],
      "metadata": {
        "colab": {
          "base_uri": "https://localhost:8080/"
        },
        "id": "1EcIS985w76D",
        "outputId": "5d93959a-1e5a-41c7-86e0-6a16ee59d8ff"
      },
      "execution_count": null,
      "outputs": [
        {
          "output_type": "stream",
          "name": "stdout",
          "text": [
            "estado         object\n",
            "tipo           object\n",
            "centro_inah    object\n",
            "enero          object\n",
            "febrero        object\n",
            "marzo          object\n",
            "abril          object\n",
            "mayo           object\n",
            "junio          object\n",
            "julio          object\n",
            "dtype: object\n"
          ]
        }
      ]
    },
    {
      "cell_type": "code",
      "source": [
        "dframe = df_types.astype(str)\n",
        "print(dframe)"
      ],
      "metadata": {
        "colab": {
          "base_uri": "https://localhost:8080/"
        },
        "id": "2w5WbDKo0kZM",
        "outputId": "a291213d-c4cb-4973-a946-fd4c501e345a"
      },
      "execution_count": null,
      "outputs": [
        {
          "output_type": "stream",
          "name": "stdout",
          "text": [
            "estado         object\n",
            "tipo           object\n",
            "centro_inah    object\n",
            "enero          object\n",
            "febrero        object\n",
            "marzo          object\n",
            "abril          object\n",
            "mayo           object\n",
            "junio          object\n",
            "julio          object\n",
            "dtype: object\n"
          ]
        }
      ]
    },
    {
      "cell_type": "code",
      "source": [
        "from google.cloud import bigquery\n",
        "import os\n",
        "\n",
        "os.environ['GOOGLE_APPLICATION_CREDENTIALS'] = '/path/file.json'\n",
        "\n",
        "client = bigquery.Client()\n",
        "table_id = \"data-project-395314.data_project.inah_visitantes\"\n",
        "\n",
        "job_config = bigquery.LoadJobConfig(\n",
        "    # Specify a (partial) schema. All columns are always written to the\n",
        "    # table. The schema is used to assist in data type definitions.\n",
        "    schema=[\n",
        "        bigquery.SchemaField(\"estado\", \"STRING\"),\n",
        "        bigquery.SchemaField(\"tipo\", \"STRING\"),\n",
        "        bigquery.SchemaField(\"centro_inah\", \"STRING\"),\n",
        "        bigquery.SchemaField(\"enero\", \"STRING\"),\n",
        "        bigquery.SchemaField(\"febrero\", \"STRING\"),\n",
        "        bigquery.SchemaField(\"marzo\", \"STRING\"),\n",
        "        bigquery.SchemaField(\"abril\", \"STRING\"),\n",
        "        bigquery.SchemaField(\"mayo\", \"STRING\"),\n",
        "        bigquery.SchemaField(\"junio\", \"STRING\"),\n",
        "        bigquery.SchemaField(\"julio\", \"STRING\"),\n",
        "    ],\n",
        "    # Optionally, set the write disposition. BigQuery appends loaded rows\n",
        "    # to an existing table by default, but with WRITE_TRUNCATE write\n",
        "    # disposition it replaces the table with the loaded data.\n",
        "    write_disposition=\"WRITE_TRUNCATE\",\n",
        ")\n",
        "\n",
        "job = client.load_table_from_dataframe(\n",
        "    df, table_id, job_config=job_config\n",
        ")  # Make an API request.\n",
        "job.result()  # Wait for the job to complete.\n",
        "\n",
        "table = client.get_table(table_id)  # Make an API request.\n",
        "print(\n",
        "    \"Loaded {} rows and {} columns to {}\".format(\n",
        "        table.num_rows, len(table.schema), table_id\n",
        "    )\n",
        ")\n"
      ],
      "metadata": {
        "colab": {
          "base_uri": "https://localhost:8080/"
        },
        "id": "ImCwhcveDhFs",
        "outputId": "481f72f8-58ad-4f9b-a1d1-e60f5466eab7"
      },
      "execution_count": null,
      "outputs": [
        {
          "output_type": "stream",
          "name": "stdout",
          "text": [
            "Loaded 177 rows and 10 columns to data-project-395314.data_project.inah_visitantes\n"
          ]
        }
      ]
    },
    {
      "cell_type": "code",
      "source": [],
      "metadata": {
        "id": "Gcu_9EMBlgc8"
      },
      "execution_count": null,
      "outputs": []
    }
  ]
}