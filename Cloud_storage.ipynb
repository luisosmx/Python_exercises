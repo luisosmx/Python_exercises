{
  "nbformat": 4,
  "nbformat_minor": 0,
  "metadata": {
    "colab": {
      "provenance": [],
      "authorship_tag": "ABX9TyMYhZ205247NMJ1zJ9KdwYS",
      "include_colab_link": true
    },
    "kernelspec": {
      "name": "python3",
      "display_name": "Python 3"
    },
    "language_info": {
      "name": "python"
    }
  },
  "cells": [
    {
      "cell_type": "markdown",
      "metadata": {
        "id": "view-in-github",
        "colab_type": "text"
      },
      "source": [
        "<a href=\"https://colab.research.google.com/github/luisosmx/Python_exercises/blob/main/Cloud_storage.ipynb\" target=\"_parent\"><img src=\"https://colab.research.google.com/assets/colab-badge.svg\" alt=\"Open In Colab\"/></a>"
      ]
    },
    {
      "cell_type": "code",
      "execution_count": null,
      "metadata": {
        "id": "dIqrPr6HsrlO"
      },
      "outputs": [],
      "source": [
        "pip install google-cloud-storage\n"
      ]
    },
    {
      "cell_type": "code",
      "source": [
        "from google.cloud import storage\n",
        "import os\n",
        "\n",
        "# Configura la variable de entorno para las credenciales\n",
        "os.environ['GOOGLE_APPLICATION_CREDENTIALS'] = '/content/projectf1-data-7faef3aab5d9.json'\n",
        "\n",
        "# Crea un cliente de almacenamiento\n",
        "storage_client = storage.Client()\n",
        "\n",
        "# Nombre del bucket y objeto que deseas leer\n",
        "bucket_name = 'bucketdata_storage'\n",
        "object_name = 'TOLEDO SALDOS DE HERRAMIENTA ABRIL 23.xlsx'\n",
        "\n",
        "# Obtiene el objeto\n",
        "bucket = storage_client.bucket(bucket_name)\n",
        "blob = bucket.blob(object_name)\n",
        "print(blob)\n",
        "#Descarga el contenido del objeto como bytes\n",
        "contenido_bytes = blob.download_as_bytes()\n",
        "\n",
        "# Ahora puedes trabajar con los bytes como mejor te convenga\n",
        "with open('archivo.xlsx', 'wb') as f:\n",
        "    f.write(contenido_bytes)\n",
        "\n",
        "print(\"Archivo descargado como 'archivo.xlsx'\")\n"
      ],
      "metadata": {
        "colab": {
          "base_uri": "https://localhost:8080/"
        },
        "id": "loDTnK1lwlnF",
        "outputId": "edd36254-aa5c-4df3-b85c-6fa57184aad8"
      },
      "execution_count": null,
      "outputs": [
        {
          "output_type": "stream",
          "name": "stdout",
          "text": [
            "<Blob: bucketdata_storage, TOLEDO SALDOS DE HERRAMIENTA ABRIL 23.xlsx, None>\n",
            "Archivo descargado como 'archivo.xlsx'\n"
          ]
        }
      ]
    },
    {
      "cell_type": "code",
      "source": [
        "# Crea un cliente de almacenamiento\n",
        "storage_client = storage.Client()\n",
        "\n",
        "# Nombre del bucket y objeto donde deseas guardar el archivo\n",
        "bucket_name = 'bucketdata_storage'\n",
        "object_name = '/content/resultados_teams.csv'\n",
        "\n",
        "# Contenido del archivo que deseas guardar\n",
        "\n",
        "\n",
        "# Crea el objeto y guarda el contenido\n",
        "bucket = storage_client.bucket(bucket_name)\n",
        "blob = bucket.blob(object_name)\n",
        "print(blob)"
      ],
      "metadata": {
        "colab": {
          "base_uri": "https://localhost:8080/"
        },
        "id": "-vDzt6940iS2",
        "outputId": "7b7eb9d2-da01-4ff1-e42a-5a023e4ae2f6"
      },
      "execution_count": null,
      "outputs": [
        {
          "output_type": "stream",
          "name": "stdout",
          "text": [
            "<Blob: bucketdata_storage, /content/resultados_teams.csv, None>\n"
          ]
        }
      ]
    },
    {
      "cell_type": "code",
      "source": [],
      "metadata": {
        "id": "Eupn8vJg3tZA"
      },
      "execution_count": null,
      "outputs": []
    }
  ]
}