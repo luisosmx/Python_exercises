{
  "nbformat": 4,
  "nbformat_minor": 0,
  "metadata": {
    "colab": {
      "provenance": [],
      "authorship_tag": "ABX9TyOIKIv+ocL8/+9Tmw6lr5XA",
      "include_colab_link": true
    },
    "kernelspec": {
      "name": "python3",
      "display_name": "Python 3"
    },
    "language_info": {
      "name": "python"
    }
  },
  "cells": [
    {
      "cell_type": "markdown",
      "metadata": {
        "id": "view-in-github",
        "colab_type": "text"
      },
      "source": [
        "<a href=\"https://colab.research.google.com/github/luisosmx/Python_exercises/blob/main/Cloud_storage.ipynb\" target=\"_parent\"><img src=\"https://colab.research.google.com/assets/colab-badge.svg\" alt=\"Open In Colab\"/></a>"
      ]
    },
    {
      "cell_type": "code",
      "execution_count": null,
      "metadata": {
        "id": "dIqrPr6HsrlO"
      },
      "outputs": [],
      "source": [
        "!pip install google-cloud-storage\n",
        "!pip install pandas google-cloud-storage\n"
      ]
    },
    {
      "cell_type": "code",
      "source": [
        "from google.cloud import storage\n",
        "import os\n",
        "import pandas as pd\n",
        "\n",
        "# Configura la variable de entorno para las credenciales\n",
        "os.environ['GOOGLE_APPLICATION_CREDENTIALS'] = '/content/projectf1-data-7faef3aab5d9.json'\n",
        "\n",
        "# Crea un cliente de almacenamiento\n",
        "storage_client = storage.Client()\n",
        "\n",
        "# Nombre del bucket y objeto que deseas leer\n",
        "bucket_name = 'bucketdata_storage'\n",
        "object_name = '/content/inah_visitantes_zonas_general_anual_2023.csv'\n",
        "destination = '/content/file.csv'\n",
        "# Obtiene el objeto\n",
        "bucket = storage_client.bucket(bucket_name)\n",
        "blob = bucket.blob(object_name)\n",
        "print(blob)\n",
        "#Descarga el contenido del objeto como bytes\n",
        "blob.download_to_filename(destination)\n",
        "\n",
        "# Ahora puedes trabajar con los bytes como mejor te convenga\n",
        "\n",
        "\n",
        "print(\"Archivo descargado como 'file.csv\")\n",
        "# making dataframe\n",
        "df = pd.read_csv(destination, encoding='latin-1')\n",
        "\n",
        "# output the dataframe\n",
        "print(df.head(10))"
      ],
      "metadata": {
        "colab": {
          "base_uri": "https://localhost:8080/"
        },
        "id": "loDTnK1lwlnF",
        "outputId": "60c2e218-1740-4a19-e225-938216c625f4"
      },
      "execution_count": 12,
      "outputs": [
        {
          "output_type": "stream",
          "name": "stdout",
          "text": [
            "<Blob: bucketdata_storage, /content/inah_visitantes_zonas_general_anual_2023.csv, None>\n",
            "Archivo descargado como 'file.csv\n",
            "                Estado  Clave SIINAH  Tipo  \\\n",
            "0                  NaN           NaN   NaN   \n",
            "1      Baja California     3120040.0  Z.A.   \n",
            "2  Baja California Sur     3120007.0  Z.A.   \n",
            "3             Campeche     3120005.0  Z.A.   \n",
            "4             Campeche     3110002.0  Z.A.   \n",
            "5             Campeche     3120008.0  Z.A.   \n",
            "6             Campeche     3120017.0  Z.A.   \n",
            "7             Campeche     3120020.0  Z.A.   \n",
            "8             Campeche     3110011.0  Z.A.   \n",
            "9             Campeche     3110012.0  Z.A.   \n",
            "\n",
            "                          Centro INAH  enero Unnamed: 5 febrero Unnamed: 7  \\\n",
            "0                                 NaN   NAC.       EXT.    NAC.       EXT.   \n",
            "1                Z.A. de El Vallecito    610          6   1,143         16   \n",
            "2  Z.A. de San Francisco de la Sierra    128         19       0          0   \n",
            "3                     Z.A. de Balamkú    336        310     252        393   \n",
            "4                       Z.A. de Becán    963      1,017     687      1,169   \n",
            "5                    Z.A. de Calakmul  1,943      3,050   1,243      3,096   \n",
            "6                    Z.A. de Chicanná    279        400     433        542   \n",
            "7                   Z.A. de Chunhuhub     66          2      54          1   \n",
            "8                 Z.A. de Dzibilnocac    542          8     297          9   \n",
            "9                       Z.A. de Edzná  3,330        920   2,749        982   \n",
            "\n",
            "   marzo Unnamed: 9  abril Unnamed: 11   mayo Unnamed: 13  junio Unnamed: 15  \\\n",
            "0   NAC.       EXT.   NAC.        EXT.   NAC.        EXT.   NAC.        EXT.   \n",
            "1    815          9  1,627           6  1,236           4  1,215           0   \n",
            "2    316        282    162           0    225          61      0           0   \n",
            "3    234        235    484         165    332         155    254          76   \n",
            "4    594      1,039  1,150         632    540         422    539         259   \n",
            "5  1,257      2,743  2,614       2,116    886       1,390    691         808   \n",
            "6    291        687    426         339    196         241    164         153   \n",
            "7     71          9     77           7     49           3     82           0   \n",
            "8    223         14    433           4    555           1    135           3   \n",
            "9  2,548        961  4,437         726  1,921         357  1,916         257   \n",
            "\n",
            "   julio Unnamed: 17  \n",
            "0   NAC.        EXT.  \n",
            "1    533           4  \n",
            "2    264          20  \n",
            "3    605         235  \n",
            "4    978         783  \n",
            "5  1,438       2,525  \n",
            "6    422         327  \n",
            "7     70           1  \n",
            "8    304           4  \n",
            "9  3,659         621  \n"
          ]
        }
      ]
    },
    {
      "cell_type": "code",
      "source": [
        "column_names = df.columns.tolist()\n",
        "\n",
        "print(column_names)\n"
      ],
      "metadata": {
        "colab": {
          "base_uri": "https://localhost:8080/"
        },
        "id": "ryG38ld1c-YU",
        "outputId": "1a6d12fa-fc93-4049-8181-259322e8007c"
      },
      "execution_count": 13,
      "outputs": [
        {
          "output_type": "stream",
          "name": "stdout",
          "text": [
            "['Estado', 'Clave SIINAH', 'Tipo', 'Centro INAH', 'enero', 'Unnamed: 5', 'febrero', 'Unnamed: 7', 'marzo', 'Unnamed: 9', 'abril', 'Unnamed: 11', 'mayo', 'Unnamed: 13', 'junio', 'Unnamed: 15', 'julio', 'Unnamed: 17']\n"
          ]
        }
      ]
    },
    {
      "cell_type": "code",
      "source": [
        "# Crea un cliente de almacenamiento\n",
        "storage_client = storage.Client()\n",
        "\n",
        "# Nombre del bucket y objeto donde deseas guardar el archivo\n",
        "bucket_name = 'bucketdata_storage'\n",
        "object_name = '/content/inah_visitantes_zonas_general_anual_2023.csv'\n",
        "\n",
        "# Contenido del archivo que deseas guardar\n",
        "\n",
        "\n",
        "# Crea el objeto y guarda el contenido\n",
        "bucket = storage_client.bucket(bucket_name)\n",
        "blob = bucket.blob(object_name)\n",
        "print(blob)"
      ],
      "metadata": {
        "colab": {
          "base_uri": "https://localhost:8080/"
        },
        "id": "-vDzt6940iS2",
        "outputId": "2026408e-dd56-48e4-e6f9-224738ec1f35"
      },
      "execution_count": null,
      "outputs": [
        {
          "output_type": "stream",
          "name": "stdout",
          "text": [
            "<Blob: bucketdata_storage, /content/inah_visitantes_zonas_general_anual_2023.csv, None>\n"
          ]
        }
      ]
    },
    {
      "cell_type": "code",
      "source": [
        "from google.cloud import storage\n",
        "\n",
        "# Configura la conexión con Google Cloud Storage\n",
        "client = storage.Client()\n",
        "bucket_name = \"bucketdata_storage\"\n",
        "blob_name = '/content/inah_visitantes_zonas_general_anual_2023.csv'\n",
        "\n",
        "bucket = client.bucket(bucket_name)\n",
        "blob = bucket.blob(blob_name)\n",
        "\n",
        "# Ruta local del archivo .xlsx que deseas cargar\n",
        "archivo_local = \"/content/inah_visitantes_zonas_general_anual_2023.csv\"\n",
        "\n",
        "# Carga el archivo al almacenamiento en la nube\n",
        "blob.upload_from_filename(archivo_local)\n"
      ],
      "metadata": {
        "id": "tUQp7oNwdGu6"
      },
      "execution_count": null,
      "outputs": []
    },
    {
      "cell_type": "code",
      "source": [
        "# Verifica si el objeto (archivo) existe en el bucket\n",
        "exists = blob.exists()\n",
        "\n",
        "if exists:\n",
        "    print(f\"El archivo {blob_name} existe en el bucket {bucket_name}.\")\n",
        "else:\n",
        "    print(f\"El archivo {blob_name} no existe en el bucket {bucket_name}.\")"
      ],
      "metadata": {
        "colab": {
          "base_uri": "https://localhost:8080/"
        },
        "id": "qqz-sffueSOi",
        "outputId": "b2723755-b672-4312-f033-feaac1550098"
      },
      "execution_count": null,
      "outputs": [
        {
          "output_type": "stream",
          "name": "stdout",
          "text": [
            "El archivo /content/inah_visitantes_zonas_general_anual_2023.csv existe en el bucket bucketdata_storage.\n"
          ]
        }
      ]
    },
    {
      "cell_type": "code",
      "source": [
        "from google.cloud import storage\n",
        "import os\n",
        "import pandas as pd\n",
        "\n",
        "\n",
        "\n",
        "\n",
        "def download_blob(bucket_name, source_blob_name, destination_file_name):\n",
        "    \"\"\"Downloads a blob from the bucket.\"\"\"\n",
        "    # The ID of your GCS bucket\n",
        "    bucket_name = \"bucketdata_storage\"\n",
        "\n",
        "    # The ID of your GCS object\n",
        "    source_blob_name = \"bucketdata_storage//content/inah_visitantes_zonas_general_anual_2023.csv\"\n",
        "\n",
        "    # The path to which the file should be downloaded\n",
        "    destination_file_name = \"/content\"\n",
        "    os.environ['GOOGLE_APPLICATION_CREDENTIALS']=\"/content/projectf1-data-7faef3aab5d9.json\"\n",
        "    storage_client = storage.Client()\n",
        "\n",
        "    bucket = storage_client.bucket(bucket_name)\n",
        "\n",
        "    # Construct a client side representation of a blob.\n",
        "    # Note `Bucket.blob` differs from `Bucket.get_blob` as it doesn't retrieve\n",
        "    # any content from Google Cloud Storage. As we don't need additional data,\n",
        "    # using `Bucket.blob` is preferred here.\n",
        "    blob = bucket.blob(source_blob_name)\n",
        "    blob.download_to_filename(destination_file_name)\n",
        "\n",
        "    print(\n",
        "        \"Downloaded storage object {} from bucket {} to local file {}.\".format(\n",
        "            source_blob_name, bucket_name, destination_file_name\n",
        "        )\n",
        "    )\n"
      ],
      "metadata": {
        "id": "5xhk-efB85n_"
      },
      "execution_count": 16,
      "outputs": []
    },
    {
      "cell_type": "code",
      "source": [
        "import pandas as pd\n",
        "from google.cloud import storage\n",
        "import os\n",
        "# Crea una instancia del cliente de Google Cloud Storage\n",
        "\n",
        "os.environ['GOOGLE_APPLICATION_CREDENTIALS']=\"/content/projectf1-data-7faef3aab5d9.json\"\n",
        "client = storage.Client()\n",
        "# Especifica la ruta al archivo en Cloud Storage\n",
        "bucket_name = 'bucketdata_storage'\n",
        "blob_name = 'bucketdata_storage//content/inah_visitantes_zonas_general_anual_2023.csv'\n",
        "bucket = client.get_bucket(bucket_name)\n",
        "blob = bucket.blob(blob_name)\n",
        "print(blob)\n",
        "# Descarga el archivo a tu sistema local\n",
        "archivo_local = '/content/sample_data/inah.csv'\n",
        "blob.download_to_filename(archivo_local)\n",
        "\n",
        "# making dataframe\n",
        "#df = pd.read_csv(archivo_local)\n",
        "\n",
        "# output the dataframe\n",
        "#print(df.head(10))"
      ],
      "metadata": {
        "id": "Eupn8vJg3tZA",
        "colab": {
          "base_uri": "https://localhost:8080/",
          "height": 682
        },
        "outputId": "cbde153c-aefb-4840-929f-c3b7196afb88"
      },
      "execution_count": 6,
      "outputs": [
        {
          "output_type": "stream",
          "name": "stdout",
          "text": [
            "<Blob: bucketdata_storage, bucketdata_storage//content/inah_visitantes_zonas_general_anual_2023.csv, None>\n"
          ]
        },
        {
          "output_type": "error",
          "ename": "NotFound",
          "evalue": "ignored",
          "traceback": [
            "\u001b[0;31m---------------------------------------------------------------------------\u001b[0m",
            "\u001b[0;31mInvalidResponse\u001b[0m                           Traceback (most recent call last)",
            "\u001b[0;32m/usr/local/lib/python3.10/dist-packages/google/cloud/storage/client.py\u001b[0m in \u001b[0;36mdownload_blob_to_file\u001b[0;34m(self, blob_or_uri, file_obj, start, end, raw_download, if_etag_match, if_etag_not_match, if_generation_match, if_generation_not_match, if_metageneration_match, if_metageneration_not_match, timeout, checksum, retry)\u001b[0m\n\u001b[1;32m   1090\u001b[0m         \u001b[0;32mtry\u001b[0m\u001b[0;34m:\u001b[0m\u001b[0;34m\u001b[0m\u001b[0;34m\u001b[0m\u001b[0m\n\u001b[0;32m-> 1091\u001b[0;31m             blob_or_uri._do_download(\n\u001b[0m\u001b[1;32m   1092\u001b[0m                 \u001b[0mtransport\u001b[0m\u001b[0;34m,\u001b[0m\u001b[0;34m\u001b[0m\u001b[0;34m\u001b[0m\u001b[0m\n",
            "\u001b[0;32m/usr/local/lib/python3.10/dist-packages/google/cloud/storage/blob.py\u001b[0m in \u001b[0;36m_do_download\u001b[0;34m(self, transport, file_obj, download_url, headers, start, end, raw_download, timeout, checksum, retry)\u001b[0m\n\u001b[1;32m    983\u001b[0m             \u001b[0mdownload\u001b[0m\u001b[0;34m.\u001b[0m\u001b[0m_retry_strategy\u001b[0m \u001b[0;34m=\u001b[0m \u001b[0mretry_strategy\u001b[0m\u001b[0;34m\u001b[0m\u001b[0;34m\u001b[0m\u001b[0m\n\u001b[0;32m--> 984\u001b[0;31m             \u001b[0mresponse\u001b[0m \u001b[0;34m=\u001b[0m \u001b[0mdownload\u001b[0m\u001b[0;34m.\u001b[0m\u001b[0mconsume\u001b[0m\u001b[0;34m(\u001b[0m\u001b[0mtransport\u001b[0m\u001b[0;34m,\u001b[0m \u001b[0mtimeout\u001b[0m\u001b[0;34m=\u001b[0m\u001b[0mtimeout\u001b[0m\u001b[0;34m)\u001b[0m\u001b[0;34m\u001b[0m\u001b[0;34m\u001b[0m\u001b[0m\n\u001b[0m\u001b[1;32m    985\u001b[0m             \u001b[0mself\u001b[0m\u001b[0;34m.\u001b[0m\u001b[0m_extract_headers_from_download\u001b[0m\u001b[0;34m(\u001b[0m\u001b[0mresponse\u001b[0m\u001b[0;34m)\u001b[0m\u001b[0;34m\u001b[0m\u001b[0;34m\u001b[0m\u001b[0m\n",
            "\u001b[0;32m/usr/local/lib/python3.10/dist-packages/google/resumable_media/requests/download.py\u001b[0m in \u001b[0;36mconsume\u001b[0;34m(self, transport, timeout)\u001b[0m\n\u001b[1;32m    236\u001b[0m \u001b[0;34m\u001b[0m\u001b[0m\n\u001b[0;32m--> 237\u001b[0;31m         return _request_helpers.wait_and_retry(\n\u001b[0m\u001b[1;32m    238\u001b[0m             \u001b[0mretriable_request\u001b[0m\u001b[0;34m,\u001b[0m \u001b[0mself\u001b[0m\u001b[0;34m.\u001b[0m\u001b[0m_get_status_code\u001b[0m\u001b[0;34m,\u001b[0m \u001b[0mself\u001b[0m\u001b[0;34m.\u001b[0m\u001b[0m_retry_strategy\u001b[0m\u001b[0;34m\u001b[0m\u001b[0;34m\u001b[0m\u001b[0m\n",
            "\u001b[0;32m/usr/local/lib/python3.10/dist-packages/google/resumable_media/requests/_request_helpers.py\u001b[0m in \u001b[0;36mwait_and_retry\u001b[0;34m(func, get_status_code, retry_strategy)\u001b[0m\n\u001b[1;32m    154\u001b[0m         \u001b[0;32mtry\u001b[0m\u001b[0;34m:\u001b[0m\u001b[0;34m\u001b[0m\u001b[0;34m\u001b[0m\u001b[0m\n\u001b[0;32m--> 155\u001b[0;31m             \u001b[0mresponse\u001b[0m \u001b[0;34m=\u001b[0m \u001b[0mfunc\u001b[0m\u001b[0;34m(\u001b[0m\u001b[0;34m)\u001b[0m\u001b[0;34m\u001b[0m\u001b[0;34m\u001b[0m\u001b[0m\n\u001b[0m\u001b[1;32m    156\u001b[0m         \u001b[0;32mexcept\u001b[0m \u001b[0m_CONNECTION_ERROR_CLASSES\u001b[0m \u001b[0;32mas\u001b[0m \u001b[0me\u001b[0m\u001b[0;34m:\u001b[0m\u001b[0;34m\u001b[0m\u001b[0;34m\u001b[0m\u001b[0m\n",
            "\u001b[0;32m/usr/local/lib/python3.10/dist-packages/google/resumable_media/requests/download.py\u001b[0m in \u001b[0;36mretriable_request\u001b[0;34m()\u001b[0m\n\u001b[1;32m    218\u001b[0m \u001b[0;34m\u001b[0m\u001b[0m\n\u001b[0;32m--> 219\u001b[0;31m             \u001b[0mself\u001b[0m\u001b[0;34m.\u001b[0m\u001b[0m_process_response\u001b[0m\u001b[0;34m(\u001b[0m\u001b[0mresult\u001b[0m\u001b[0;34m)\u001b[0m\u001b[0;34m\u001b[0m\u001b[0;34m\u001b[0m\u001b[0m\n\u001b[0m\u001b[1;32m    220\u001b[0m \u001b[0;34m\u001b[0m\u001b[0m\n",
            "\u001b[0;32m/usr/local/lib/python3.10/dist-packages/google/resumable_media/_download.py\u001b[0m in \u001b[0;36m_process_response\u001b[0;34m(self, response)\u001b[0m\n\u001b[1;32m    187\u001b[0m         \u001b[0mself\u001b[0m\u001b[0;34m.\u001b[0m\u001b[0m_finished\u001b[0m \u001b[0;34m=\u001b[0m \u001b[0;32mTrue\u001b[0m\u001b[0;34m\u001b[0m\u001b[0;34m\u001b[0m\u001b[0m\n\u001b[0;32m--> 188\u001b[0;31m         _helpers.require_status_code(\n\u001b[0m\u001b[1;32m    189\u001b[0m             \u001b[0mresponse\u001b[0m\u001b[0;34m,\u001b[0m \u001b[0m_ACCEPTABLE_STATUS_CODES\u001b[0m\u001b[0;34m,\u001b[0m \u001b[0mself\u001b[0m\u001b[0;34m.\u001b[0m\u001b[0m_get_status_code\u001b[0m\u001b[0;34m\u001b[0m\u001b[0;34m\u001b[0m\u001b[0m\n",
            "\u001b[0;32m/usr/local/lib/python3.10/dist-packages/google/resumable_media/_helpers.py\u001b[0m in \u001b[0;36mrequire_status_code\u001b[0;34m(response, status_codes, get_status_code, callback)\u001b[0m\n\u001b[1;32m    107\u001b[0m             \u001b[0mcallback\u001b[0m\u001b[0;34m(\u001b[0m\u001b[0;34m)\u001b[0m\u001b[0;34m\u001b[0m\u001b[0;34m\u001b[0m\u001b[0m\n\u001b[0;32m--> 108\u001b[0;31m         raise common.InvalidResponse(\n\u001b[0m\u001b[1;32m    109\u001b[0m             \u001b[0mresponse\u001b[0m\u001b[0;34m,\u001b[0m\u001b[0;34m\u001b[0m\u001b[0;34m\u001b[0m\u001b[0m\n",
            "\u001b[0;31mInvalidResponse\u001b[0m: ('Request failed with status code', 404, 'Expected one of', <HTTPStatus.OK: 200>, <HTTPStatus.PARTIAL_CONTENT: 206>)",
            "\nDuring handling of the above exception, another exception occurred:\n",
            "\u001b[0;31mNotFound\u001b[0m                                  Traceback (most recent call last)",
            "\u001b[0;32m<ipython-input-6-554353b0a006>\u001b[0m in \u001b[0;36m<cell line: 16>\u001b[0;34m()\u001b[0m\n\u001b[1;32m     14\u001b[0m \u001b[0;31m# Descarga el archivo a tu sistema local\u001b[0m\u001b[0;34m\u001b[0m\u001b[0;34m\u001b[0m\u001b[0m\n\u001b[1;32m     15\u001b[0m \u001b[0marchivo_local\u001b[0m \u001b[0;34m=\u001b[0m \u001b[0;34m'/content/sample_data/inah.csv'\u001b[0m\u001b[0;34m\u001b[0m\u001b[0;34m\u001b[0m\u001b[0m\n\u001b[0;32m---> 16\u001b[0;31m \u001b[0mblob\u001b[0m\u001b[0;34m.\u001b[0m\u001b[0mdownload_to_filename\u001b[0m\u001b[0;34m(\u001b[0m\u001b[0marchivo_local\u001b[0m\u001b[0;34m)\u001b[0m\u001b[0;34m\u001b[0m\u001b[0;34m\u001b[0m\u001b[0m\n\u001b[0m\u001b[1;32m     17\u001b[0m \u001b[0;34m\u001b[0m\u001b[0m\n\u001b[1;32m     18\u001b[0m \u001b[0;31m# making dataframe\u001b[0m\u001b[0;34m\u001b[0m\u001b[0;34m\u001b[0m\u001b[0m\n",
            "\u001b[0;32m/usr/local/lib/python3.10/dist-packages/google/cloud/storage/blob.py\u001b[0m in \u001b[0;36mdownload_to_filename\u001b[0;34m(self, filename, client, start, end, raw_download, if_etag_match, if_etag_not_match, if_generation_match, if_generation_not_match, if_metageneration_match, if_metageneration_not_match, timeout, checksum, retry)\u001b[0m\n\u001b[1;32m   1254\u001b[0m         \u001b[0;32mtry\u001b[0m\u001b[0;34m:\u001b[0m\u001b[0;34m\u001b[0m\u001b[0;34m\u001b[0m\u001b[0m\n\u001b[1;32m   1255\u001b[0m             \u001b[0;32mwith\u001b[0m \u001b[0mopen\u001b[0m\u001b[0;34m(\u001b[0m\u001b[0mfilename\u001b[0m\u001b[0;34m,\u001b[0m \u001b[0;34m\"wb\"\u001b[0m\u001b[0;34m)\u001b[0m \u001b[0;32mas\u001b[0m \u001b[0mfile_obj\u001b[0m\u001b[0;34m:\u001b[0m\u001b[0;34m\u001b[0m\u001b[0;34m\u001b[0m\u001b[0m\n\u001b[0;32m-> 1256\u001b[0;31m                 client.download_blob_to_file(\n\u001b[0m\u001b[1;32m   1257\u001b[0m                     \u001b[0mself\u001b[0m\u001b[0;34m,\u001b[0m\u001b[0;34m\u001b[0m\u001b[0;34m\u001b[0m\u001b[0m\n\u001b[1;32m   1258\u001b[0m                     \u001b[0mfile_obj\u001b[0m\u001b[0;34m,\u001b[0m\u001b[0;34m\u001b[0m\u001b[0;34m\u001b[0m\u001b[0m\n",
            "\u001b[0;32m/usr/local/lib/python3.10/dist-packages/google/cloud/storage/client.py\u001b[0m in \u001b[0;36mdownload_blob_to_file\u001b[0;34m(self, blob_or_uri, file_obj, start, end, raw_download, if_etag_match, if_etag_not_match, if_generation_match, if_generation_not_match, if_metageneration_match, if_metageneration_not_match, timeout, checksum, retry)\u001b[0m\n\u001b[1;32m   1102\u001b[0m             )\n\u001b[1;32m   1103\u001b[0m         \u001b[0;32mexcept\u001b[0m \u001b[0mresumable_media\u001b[0m\u001b[0;34m.\u001b[0m\u001b[0mInvalidResponse\u001b[0m \u001b[0;32mas\u001b[0m \u001b[0mexc\u001b[0m\u001b[0;34m:\u001b[0m\u001b[0;34m\u001b[0m\u001b[0;34m\u001b[0m\u001b[0m\n\u001b[0;32m-> 1104\u001b[0;31m             \u001b[0m_raise_from_invalid_response\u001b[0m\u001b[0;34m(\u001b[0m\u001b[0mexc\u001b[0m\u001b[0;34m)\u001b[0m\u001b[0;34m\u001b[0m\u001b[0;34m\u001b[0m\u001b[0m\n\u001b[0m\u001b[1;32m   1105\u001b[0m \u001b[0;34m\u001b[0m\u001b[0m\n\u001b[1;32m   1106\u001b[0m     def list_blobs(\n",
            "\u001b[0;32m/usr/local/lib/python3.10/dist-packages/google/cloud/storage/blob.py\u001b[0m in \u001b[0;36m_raise_from_invalid_response\u001b[0;34m(error)\u001b[0m\n\u001b[1;32m   4367\u001b[0m     \u001b[0mmessage\u001b[0m \u001b[0;34m=\u001b[0m \u001b[0;34mf\"{response.request.method} {response.request.url}: {error_message}\"\u001b[0m\u001b[0;34m\u001b[0m\u001b[0;34m\u001b[0m\u001b[0m\n\u001b[1;32m   4368\u001b[0m \u001b[0;34m\u001b[0m\u001b[0m\n\u001b[0;32m-> 4369\u001b[0;31m     \u001b[0;32mraise\u001b[0m \u001b[0mexceptions\u001b[0m\u001b[0;34m.\u001b[0m\u001b[0mfrom_http_status\u001b[0m\u001b[0;34m(\u001b[0m\u001b[0mresponse\u001b[0m\u001b[0;34m.\u001b[0m\u001b[0mstatus_code\u001b[0m\u001b[0;34m,\u001b[0m \u001b[0mmessage\u001b[0m\u001b[0;34m,\u001b[0m \u001b[0mresponse\u001b[0m\u001b[0;34m=\u001b[0m\u001b[0mresponse\u001b[0m\u001b[0;34m)\u001b[0m\u001b[0;34m\u001b[0m\u001b[0;34m\u001b[0m\u001b[0m\n\u001b[0m\u001b[1;32m   4370\u001b[0m \u001b[0;34m\u001b[0m\u001b[0m\n\u001b[1;32m   4371\u001b[0m \u001b[0;34m\u001b[0m\u001b[0m\n",
            "\u001b[0;31mNotFound\u001b[0m: 404 GET https://storage.googleapis.com/download/storage/v1/b/bucketdata_storage/o/bucketdata_storage%2F%2Fcontent%2Finah_visitantes_zonas_general_anual_2023.csv?alt=media: No such object: bucketdata_storage/bucketdata_storage//content/inah_visitantes_zonas_general_anual_2023.csv: ('Request failed with status code', 404, 'Expected one of', <HTTPStatus.OK: 200>, <HTTPStatus.PARTIAL_CONTENT: 206>)"
          ]
        }
      ]
    },
    {
      "cell_type": "code",
      "source": [
        "from google.cloud import storage\n",
        "import os\n",
        "import logging\n",
        "\n",
        "# Configura el nivel de registro\n",
        "logging.basicConfig(level=logging.INFO)\n",
        "\n",
        "def download_blob(bucket_name, source_blob_name, destination_file_name):\n",
        "    logging.info(\"Iniciando descarga...\")\n",
        "\n",
        "    os.environ['GOOGLE_APPLICATION_CREDENTIALS'] = \"/content/projectf1-data-7faef3aab5d9.json\"\n",
        "    storage_client = storage.Client()\n",
        "\n",
        "    bucket = storage_client.bucket(bucket_name)\n",
        "    blob = bucket.blob(source_blob_name)\n",
        "\n",
        "    try:\n",
        "        logging.info(\"Descargando el archivo...\")\n",
        "        blob.download_to_filename(destination_file_name)\n",
        "        logging.info(\"Descarga completada.\")\n",
        "        return True\n",
        "    except Exception as e:\n",
        "        logging.error(\"Error en la descarga: %s\", str(e))\n",
        "        return False\n",
        "\n",
        "# Ejemplo de uso\n",
        "if __name__ == \"__main__\":\n",
        "    bucket_name = \"bucketdata_storage\"\n",
        "    source_blob_name = \"gs://bucketdata_storage//content/inah_visitantes_zonas_general_anual_2023.csv\"\n",
        "    destination_file_name = \"/content/inah_visitantes_zonas_general_anual_2023.csv\"\n",
        "\n",
        "    if download_blob(bucket_name, source_blob_name, destination_file_name):\n",
        "        print(\"Descarga exitosa\")\n",
        "    else:\n",
        "        print(\"Error en la descarga\")\n"
      ],
      "metadata": {
        "id": "aVrmqxNUYDMN",
        "colab": {
          "base_uri": "https://localhost:8080/"
        },
        "outputId": "c20bc905-1ceb-411a-bfcf-ee4febd565a0"
      },
      "execution_count": 15,
      "outputs": [
        {
          "output_type": "stream",
          "name": "stderr",
          "text": [
            "ERROR:root:Error en la descarga: 404 GET https://storage.googleapis.com/download/storage/v1/b/bucketdata_storage/o/gs%3A%2F%2Fbucketdata_storage%2F%2Fcontent%2Finah_visitantes_zonas_general_anual_2023.csv?alt=media: No such object: bucketdata_storage/gs://bucketdata_storage//content/inah_visitantes_zonas_general_anual_2023.csv: ('Request failed with status code', 404, 'Expected one of', <HTTPStatus.OK: 200>, <HTTPStatus.PARTIAL_CONTENT: 206>)\n"
          ]
        },
        {
          "output_type": "stream",
          "name": "stdout",
          "text": [
            "Error en la descarga\n"
          ]
        }
      ]
    },
    {
      "cell_type": "code",
      "source": [],
      "metadata": {
        "id": "ImCwhcveDhFs"
      },
      "execution_count": null,
      "outputs": []
    }
  ]
}