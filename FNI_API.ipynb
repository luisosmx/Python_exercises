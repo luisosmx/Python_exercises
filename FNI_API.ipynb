{
  "nbformat": 4,
  "nbformat_minor": 0,
  "metadata": {
    "colab": {
      "provenance": [],
      "authorship_tag": "ABX9TyOzpmo5wni+9h3RvvobiGKR",
      "include_colab_link": true
    },
    "kernelspec": {
      "name": "python3",
      "display_name": "Python 3"
    },
    "language_info": {
      "name": "python"
    }
  },
  "cells": [
    {
      "cell_type": "markdown",
      "metadata": {
        "id": "view-in-github",
        "colab_type": "text"
      },
      "source": [
        "<a href=\"https://colab.research.google.com/github/luisosmx/Python_exercises/blob/main/FNI_API.ipynb\" target=\"_parent\"><img src=\"https://colab.research.google.com/assets/colab-badge.svg\" alt=\"Open In Colab\"/></a>"
      ]
    },
    {
      "cell_type": "code",
      "execution_count": null,
      "metadata": {
        "id": "AXV3FwPm8gDA"
      },
      "outputs": [],
      "source": [
        "import requests\n",
        "import json\n",
        "\n",
        "class Client_FNI:\n",
        "\n",
        "    def __init__(self, base_url, auth_token):\n",
        "        self.base_url = base_url\n",
        "        self.auth_token = auth_token\n",
        "\n",
        "    def apply_for_loan(self, username, password, refnum, applicant2_data):\n",
        "        url = f\"{self.base_url}/application/1/apply\"\n",
        "        headers = {\n",
        "            'Content-Type': 'application/json',\n",
        "            'Authorization': f'Bearer {self.auth_token}'\n",
        "        }\n",
        "        data = {\n",
        "            \"transaction\": {\n",
        "                \"username\": username,\n",
        "                \"password\": password,\n",
        "                \"refnum\": refnum\n",
        "            },\n",
        "            \"applicant2\": applicant2_data\n",
        "        }\n",
        "        response = requests.post(url, headers=headers, json=data)\n",
        "        return response.json()\n",
        "\n",
        "api_client = Client_FNI(\"https://devswl.fni-stl.com/fni-lenderportal-external\")\n",
        "username = \"your_username\"\n",
        "password = \"your_password\"\n",
        "refnum = \"your_refnum\"\n",
        "applicant2_data = {\n",
        "    \"first\": \"CoApplicantFirstName\",\n",
        "    \"mi\": \"M\",\n",
        "    \"last\": \"CoApplicantLastName\",\n",
        "    \"soc\": \"123456789\",\n",
        "    \"dob\": \"1990-01-01\",\n",
        "    \"addr\": \"123 Main St\",\n",
        "    \"city\": \"Anytown\",\n",
        "    \"state\": \"CA\",\n",
        "    \"zip\": \"12345\",\n",
        "    \"eMail\": \"coapplicant@example.com\"\n",
        "}\n",
        "\n",
        "response = api_client.apply_for_loan(username, password, refnum, applicant2_data)\n",
        "print(response)\n"
      ]
    }
  ]
}