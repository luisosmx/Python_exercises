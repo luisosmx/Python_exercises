{
  "nbformat": 4,
  "nbformat_minor": 0,
  "metadata": {
    "colab": {
      "provenance": [],
      "authorship_tag": "ABX9TyNirxLJYCAT3R0mgXeo4EDj",
      "include_colab_link": true
    },
    "kernelspec": {
      "name": "python3",
      "display_name": "Python 3"
    },
    "language_info": {
      "name": "python"
    }
  },
  "cells": [
    {
      "cell_type": "markdown",
      "metadata": {
        "id": "view-in-github",
        "colab_type": "text"
      },
      "source": [
        "<a href=\"https://colab.research.google.com/github/luisosmx/Python_exercises/blob/main/Cloud_storage_json.ipynb\" target=\"_parent\"><img src=\"https://colab.research.google.com/assets/colab-badge.svg\" alt=\"Open In Colab\"/></a>"
      ]
    },
    {
      "cell_type": "code",
      "source": [
        "!pip install google-cloud-storage\n",
        "!pip install pandas google-cloud-storage"
      ],
      "metadata": {
        "id": "nURcOGA27v4o"
      },
      "execution_count": null,
      "outputs": []
    },
    {
      "cell_type": "code",
      "execution_count": 8,
      "metadata": {
        "id": "uwaVa48D5bU6"
      },
      "outputs": [],
      "source": [
        "from google.cloud import storage\n",
        "import os\n",
        "import csv\n",
        "import json\n",
        "\n",
        "\n",
        "# Configura la variable de entorno para las credenciales\n",
        "os.environ['GOOGLE_APPLICATION_CREDENTIALS'] = '/path/file.json'\n",
        "\n",
        "# Crea un cliente de almacenamiento\n",
        "client = storage.Client()\n",
        "\n",
        "bucket_name = 'bucketdata_storage'\n",
        "blob_name = 'Declaratorias2000_2016.csv'\n",
        "destination_file_name = 'file.csv'\n",
        "\n",
        "# Descargar el archivo CSV desde Cloud Storage\n",
        "bucket = client.get_bucket(bucket_name)\n",
        "blob = bucket.blob(blob_name)\n",
        "blob.download_to_filename(destination_file_name)\n",
        "\n",
        "# Convertir el archivo CSV a JSON\n",
        "csv_data = []\n",
        "with open(destination_file_name, 'r', encoding='ISO-8859-1') as csv_file:\n",
        "    csv_reader = csv.DictReader(csv_file)\n",
        "    for row in csv_reader:\n",
        "        csv_data.append(row)\n",
        "\n",
        "\n",
        "\n",
        "keys_json = {'Identificador': 'id',\n",
        "             'Clave Estado': 'Clave_Estado',\n",
        "             'Clave Municipio': 'Clave_Municipio',\n",
        "             'Tipo Declaratoria': 'Tipo_Declaratoria',\n",
        "             'Clasificación Fenómeno': 'Clasificacion_fenomeno',\n",
        "             'Tipo Fenómeno': 'Tipo_Fenomeno',\n",
        "             'Fecha Inicio': 'Fecha_Inicio',\n",
        "             'Fecha Fin': 'Fecha_Fin'\n",
        "             }\n",
        "\n",
        "for item in csv_data:\n",
        "    for old_key, new_key in keys_json.items():\n",
        "        if old_key in item:\n",
        "            item[new_key] = item.pop(old_key)\n",
        "\n",
        "modified_json = json.dumps(csv_data, indent=4)\n",
        "\n",
        "#print(modified_json)"
      ]
    },
    {
      "cell_type": "code",
      "source": [
        "from google.cloud import bigquery\n",
        "os.environ['GOOGLE_APPLICATION_CREDENTIALS'] = '/path/file.json'\n",
        "\n",
        "# Define el ID del proyecto y el ID del conjunto de datos\n",
        "project_id = 'data-project-395314'\n",
        "dataset_id = 'data_project'\n",
        "table_id = 'declaratorias'\n",
        "\n",
        "# Define el esquema de la tabla\n",
        "schema = [\n",
        "    bigquery.SchemaField(\"Estado\", \"STRING\"),\n",
        "    bigquery.SchemaField(\"Municipio\", \"STRING\"),\n",
        "    bigquery.SchemaField(\"Fecha Publicación\", \"STRING\"),\n",
        "    bigquery.SchemaField(\"Observaciones\", \"STRING\"),\n",
        "    bigquery.SchemaField(\"id\", \"STRING\"),\n",
        "    bigquery.SchemaField(\"Clave_Estado\", \"STRING\"),\n",
        "    bigquery.SchemaField(\"Clave_Municipio\", \"STRING\"),\n",
        "    bigquery.SchemaField(\"Tipo_Declaratoria\", \"STRING\"),\n",
        "    bigquery.SchemaField(\"Clasificacion_fenomeno\", \"STRING\"),\n",
        "    bigquery.SchemaField(\"Tipo_Fenomeno\", \"STRING\"),\n",
        "    bigquery.SchemaField(\"Fecha_Inicio\", \"STRING\"),\n",
        "    bigquery.SchemaField(\"Fecha_Fin\", \"STRING\")\n",
        "]\n",
        "\n",
        "data = json.loads(modified_json)\n",
        "\n",
        "# Configura tu cliente de BigQuery\n",
        "client = bigquery.Client()\n",
        "\n",
        "# Obtiene una referencia a la tabla existente\n",
        "table_ref = client.dataset(dataset_id).table(table_id)\n",
        "\n",
        "# Carga los datos en la tabla\n",
        "job_config = bigquery.LoadJobConfig()\n",
        "job_config.write_disposition = bigquery.WriteDisposition.WRITE_APPEND  # Puedes ajustar esto según tus necesidades\n",
        "job_config.source_format = bigquery.SourceFormat.NEWLINE_DELIMITED_JSON\n",
        "\n",
        "# Carga los datos en la tabla existente\n",
        "load_job = client.load_table_from_json(data, table_ref, job_config=job_config)\n",
        "load_job.result()  # Espera a que se complete la carga\n",
        "\n",
        "print(\"Carga completada en la tabla: {}.{}\".format(dataset_id, table_id))"
      ],
      "metadata": {
        "id": "pOyWG3GuCLc7",
        "colab": {
          "base_uri": "https://localhost:8080/"
        },
        "outputId": "509680c4-a691-43af-9852-b6db3d612b4f"
      },
      "execution_count": 9,
      "outputs": [
        {
          "output_type": "stream",
          "name": "stdout",
          "text": [
            "Carga completada en la tabla: data_project.declaratorias\n"
          ]
        }
      ]
    },
    {
      "cell_type": "code",
      "source": [],
      "metadata": {
        "id": "WJzIAimSmCZb"
      },
      "execution_count": null,
      "outputs": []
    }
  ]
}