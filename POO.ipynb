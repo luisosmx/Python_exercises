{
  "nbformat": 4,
  "nbformat_minor": 0,
  "metadata": {
    "colab": {
      "provenance": [],
      "authorship_tag": "ABX9TyNFeOjtTPH76l8UfOjJswD+",
      "include_colab_link": true
    },
    "kernelspec": {
      "name": "python3",
      "display_name": "Python 3"
    },
    "language_info": {
      "name": "python"
    }
  },
  "cells": [
    {
      "cell_type": "markdown",
      "metadata": {
        "id": "view-in-github",
        "colab_type": "text"
      },
      "source": [
        "<a href=\"https://colab.research.google.com/github/luisosmx/Python_exercises/blob/main/POO.ipynb\" target=\"_parent\"><img src=\"https://colab.research.google.com/assets/colab-badge.svg\" alt=\"Open In Colab\"/></a>"
      ]
    },
    {
      "cell_type": "code",
      "execution_count": 11,
      "metadata": {
        "colab": {
          "base_uri": "https://localhost:8080/"
        },
        "id": "Dul0x4HfSjeJ",
        "outputId": "682d9d82-6905-467b-b5c4-b7b1e3f308ea"
      },
      "outputs": [
        {
          "output_type": "stream",
          "name": "stdout",
          "text": [
            "Juan\n",
            "25\n",
            "Hola, mi nombre es Juan y tengo 30 años.\n",
            "Hola, mi nombre es María y tengo 25 años.\n",
            "Hola, mi nombre es Irma y tengo 28 años.\n"
          ]
        }
      ],
      "source": [
        "class Persona:\n",
        "    def __init__(self, nombre, edad):\n",
        "        self.nombre = nombre\n",
        "        self.edad = edad\n",
        "\n",
        "    def saludar(self):\n",
        "        print(f\"Hola, mi nombre es {self.nombre} y tengo {self.edad} años.\")\n",
        "\n",
        "persona1 = Persona(\"Juan\", 30)\n",
        "persona2 = Persona(\"María\", 25)\n",
        "persona3 = Persona(\"Irma\", 28)\n",
        "print(persona1.nombre)\n",
        "print(persona2.edad)\n",
        "\n",
        "persona1.saludar()\n",
        "persona2.saludar()\n",
        "persona3.saludar()"
      ]
    },
    {
      "cell_type": "code",
      "source": [
        "parentezco = f'{persona1.nombre} y {persona2.nombre} son hermanos'\n",
        "print(parentezco)"
      ],
      "metadata": {
        "colab": {
          "base_uri": "https://localhost:8080/"
        },
        "id": "-c73NfEQwYok",
        "outputId": "cd82840e-2631-4e27-bba6-c523e30b3414"
      },
      "execution_count": 6,
      "outputs": [
        {
          "output_type": "stream",
          "name": "stdout",
          "text": [
            "Juan y María son hermanos\n"
          ]
        }
      ]
    },
    {
      "cell_type": "code",
      "source": [
        "pareja = f'{persona1.nombre} e {persona3.nombre} son pareja'\n",
        "print(pareja)"
      ],
      "metadata": {
        "colab": {
          "base_uri": "https://localhost:8080/"
        },
        "id": "Gu9GVCImyc1f",
        "outputId": "82fa15c3-cad0-484d-fdd5-51f891068cd8"
      },
      "execution_count": 10,
      "outputs": [
        {
          "output_type": "stream",
          "name": "stdout",
          "text": [
            "Juan e Irma son pareja\n"
          ]
        }
      ]
    },
    {
      "cell_type": "code",
      "source": [
        "class Piloto:\n",
        "    def __init__(self, piloto, marca, neumatico):\n",
        "        self.marca = marca\n",
        "        self.piloto = piloto\n",
        "        self.neumatico = neumatico\n",
        "\n",
        "\n",
        "    def saludar(self):\n",
        "        print(f\"Hola, mi nombre es {self.piloto} conduzco un  {self.marca} y usare neumaticos {self.neumatico}\")\n",
        "\n",
        "piloto1 = Piloto(\"Checo\", 'RedBull Racing', 'blandos')\n",
        "piloto2 = Piloto(\"Max\", 'RedBull Racing', 'blandos')\n",
        "piloto3 = Piloto(\"Lando\", 'McLaren', 'medios')\n",
        "\n",
        "\n",
        "piloto1.saludar()\n",
        "piloto2.saludar()\n",
        "piloto3.saludar()"
      ],
      "metadata": {
        "colab": {
          "base_uri": "https://localhost:8080/"
        },
        "id": "uZUA4A4o07Xm",
        "outputId": "1498efa4-7ab3-4f37-cadd-2c541425bc0b"
      },
      "execution_count": 13,
      "outputs": [
        {
          "output_type": "stream",
          "name": "stdout",
          "text": [
            "Hola, mi nombre es Checo conduzco un  RedBull Racing y usare neumaticos blandos\n",
            "Hola, mi nombre es Max conduzco un  RedBull Racing y usare neumaticos blandos\n",
            "Hola, mi nombre es Lando conduzco un  McLaren y usare neumaticos medios\n"
          ]
        }
      ]
    },
    {
      "cell_type": "code",
      "source": [],
      "metadata": {
        "id": "tcNQmA7c60F9"
      },
      "execution_count": null,
      "outputs": []
    }
  ]
}