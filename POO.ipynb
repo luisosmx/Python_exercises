{
  "nbformat": 4,
  "nbformat_minor": 0,
  "metadata": {
    "colab": {
      "provenance": [],
      "authorship_tag": "ABX9TyM5DMIcWV/U8QTWFsopqt8y",
      "include_colab_link": true
    },
    "kernelspec": {
      "name": "python3",
      "display_name": "Python 3"
    },
    "language_info": {
      "name": "python"
    }
  },
  "cells": [
    {
      "cell_type": "markdown",
      "metadata": {
        "id": "view-in-github",
        "colab_type": "text"
      },
      "source": [
        "<a href=\"https://colab.research.google.com/github/luisosmx/Python_exercises/blob/main/POO.ipynb\" target=\"_parent\"><img src=\"https://colab.research.google.com/assets/colab-badge.svg\" alt=\"Open In Colab\"/></a>"
      ]
    },
    {
      "cell_type": "code",
      "execution_count": 11,
      "metadata": {
        "colab": {
          "base_uri": "https://localhost:8080/"
        },
        "id": "Dul0x4HfSjeJ",
        "outputId": "682d9d82-6905-467b-b5c4-b7b1e3f308ea"
      },
      "outputs": [
        {
          "output_type": "stream",
          "name": "stdout",
          "text": [
            "Juan\n",
            "25\n",
            "Hola, mi nombre es Juan y tengo 30 años.\n",
            "Hola, mi nombre es María y tengo 25 años.\n",
            "Hola, mi nombre es Irma y tengo 28 años.\n"
          ]
        }
      ],
      "source": [
        "class Persona:\n",
        "    def __init__(self, nombre, edad):\n",
        "        self.nombre = nombre\n",
        "        self.edad = edad\n",
        "\n",
        "    def saludar(self):\n",
        "        print(f\"Hola, mi nombre es {self.nombre} y tengo {self.edad} años.\")\n",
        "\n",
        "persona1 = Persona(\"Juan\", 30)\n",
        "persona2 = Persona(\"María\", 25)\n",
        "persona3 = Persona(\"Irma\", 28)\n",
        "print(persona1.nombre)\n",
        "print(persona2.edad)\n",
        "\n",
        "persona1.saludar()\n",
        "persona2.saludar()\n",
        "persona3.saludar()"
      ]
    },
    {
      "cell_type": "code",
      "source": [
        "parentezco = f'{persona1.nombre} y {persona2.nombre} son hermanos'\n",
        "print(parentezco)"
      ],
      "metadata": {
        "colab": {
          "base_uri": "https://localhost:8080/"
        },
        "id": "-c73NfEQwYok",
        "outputId": "cd82840e-2631-4e27-bba6-c523e30b3414"
      },
      "execution_count": 6,
      "outputs": [
        {
          "output_type": "stream",
          "name": "stdout",
          "text": [
            "Juan y María son hermanos\n"
          ]
        }
      ]
    },
    {
      "cell_type": "code",
      "source": [
        "pareja = f'{persona1.nombre} e {persona3.nombre} son pareja'\n",
        "print(pareja)"
      ],
      "metadata": {
        "colab": {
          "base_uri": "https://localhost:8080/"
        },
        "id": "Gu9GVCImyc1f",
        "outputId": "82fa15c3-cad0-484d-fdd5-51f891068cd8"
      },
      "execution_count": 10,
      "outputs": [
        {
          "output_type": "stream",
          "name": "stdout",
          "text": [
            "Juan e Irma son pareja\n"
          ]
        }
      ]
    },
    {
      "cell_type": "code",
      "source": [
        "class Piloto:\n",
        "    def __init__(self, piloto, equipo, neumatico):\n",
        "        self.equipo = equipo\n",
        "        self.piloto = piloto\n",
        "        self.neumatico = neumatico\n",
        "\n",
        "    def saludar(self):\n",
        "        print(f\"Hola, soy {self.piloto}, conduzco para {self.equipo} y usaré neumáticos {self.neumatico}.\")\n",
        "\n",
        "class Equipo:\n",
        "    def __init__(self, nombre):\n",
        "        self.nombre = nombre\n",
        "        self.pilotos = []\n",
        "\n",
        "    def agregar_piloto(self, piloto):\n",
        "        self.pilotos.append(piloto)\n",
        "\n",
        "    def presentar_pilotos(self):\n",
        "        print(f\"Pilotos del equipo {self.nombre}:\")\n",
        "        for piloto in self.pilotos:\n",
        "            piloto.saludar()\n",
        "\n",
        "class RedBull(Equipo):\n",
        "    pass\n",
        "\n",
        "class McLaren(Equipo):\n",
        "    pass\n",
        "\n",
        "redbull = RedBull(\"Red Bull Racing\")\n",
        "mclaren = McLaren(\"McLaren\")\n",
        "\n",
        "piloto1 = Piloto(\"Checo\", redbull.nombre, 'blandos')\n",
        "piloto2 = Piloto(\"Max\", redbull.nombre, 'blandos')\n",
        "piloto3 = Piloto(\"Lando\", mclaren.nombre, 'medios')\n",
        "piloto4 = Piloto(\"Oscar\", mclaren.nombre, 'blandos')\n",
        "redbull.agregar_piloto(piloto1)\n",
        "redbull.agregar_piloto(piloto2)\n",
        "mclaren.agregar_piloto(piloto3)\n",
        "mclaren.agregar_piloto(piloto4)\n",
        "\n",
        "redbull.presentar_pilotos()\n",
        "mclaren.presentar_pilotos()"
      ],
      "metadata": {
        "colab": {
          "base_uri": "https://localhost:8080/"
        },
        "id": "uZUA4A4o07Xm",
        "outputId": "e8b964d9-7786-432f-bcd3-86fe60fdb304"
      },
      "execution_count": 19,
      "outputs": [
        {
          "output_type": "stream",
          "name": "stdout",
          "text": [
            "Pilotos del equipo Red Bull Racing:\n",
            "Hola, soy Checo, conduzco para Red Bull Racing y usaré neumáticos blandos.\n",
            "Hola, soy Max, conduzco para Red Bull Racing y usaré neumáticos blandos.\n",
            "Pilotos del equipo McLaren:\n",
            "Hola, soy Lando, conduzco para McLaren y usaré neumáticos medios.\n",
            "Hola, soy Oscar, conduzco para McLaren y usaré neumáticos blandos.\n"
          ]
        }
      ]
    },
    {
      "cell_type": "code",
      "source": [],
      "metadata": {
        "id": "0UtFocPS7-Jk"
      },
      "execution_count": null,
      "outputs": []
    }
  ]
}