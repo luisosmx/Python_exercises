{
  "nbformat": 4,
  "nbformat_minor": 0,
  "metadata": {
    "colab": {
      "provenance": [],
      "authorship_tag": "ABX9TyNxxHnJHgJVBuwH3UCjkChi",
      "include_colab_link": true
    },
    "kernelspec": {
      "name": "python3",
      "display_name": "Python 3"
    },
    "language_info": {
      "name": "python"
    }
  },
  "cells": [
    {
      "cell_type": "markdown",
      "metadata": {
        "id": "view-in-github",
        "colab_type": "text"
      },
      "source": [
        "<a href=\"https://colab.research.google.com/github/luisosmx/Python_exercises/blob/main/QuickBooks.ipynb\" target=\"_parent\"><img src=\"https://colab.research.google.com/assets/colab-badge.svg\" alt=\"Open In Colab\"/></a>"
      ]
    },
    {
      "cell_type": "code",
      "execution_count": null,
      "metadata": {
        "id": "G0-biiMDE5IL"
      },
      "outputs": [],
      "source": [
        "!pip install intuit-oauth\n",
        "!pip install python-quickbooks"
      ]
    },
    {
      "cell_type": "code",
      "source": [
        "from intuitlib.client import AuthClient\n",
        "from intuitlib.enums import Scopes\n",
        "from quickbooks import QuickBooks\n",
        "from quickbooks.objects.customer import Customer"
      ],
      "metadata": {
        "id": "uynmBFJJ2YJV"
      },
      "execution_count": null,
      "outputs": []
    },
    {
      "cell_type": "code",
      "source": [
        "!pip install intuit-oauth\n",
        "!pip install python-quickbooks\n",
        "\n",
        "from intuitlib.client import AuthClient\n",
        "from intuitlib.enums import Scopes\n",
        "from quickbooks import QuickBooks\n",
        "from quickbooks.objects.customer import Customer\n",
        "\n",
        "client_id = ''\n",
        "client_secret = ''\n",
        "redirect_uri = 'com.intuit.quickbooks.accounting'\n",
        "environment = 'sandbox'\n",
        "REFRESH_TOKEN = ''\n",
        "COMPANY_ID =\n",
        "\n",
        "auth_client = AuthClient(\n",
        "    client_id,\n",
        "    client_secret,\n",
        "    redirect_uri,\n",
        "    environment,\n",
        ")\n",
        "\n",
        "scopes = [\n",
        "    Scopes.ACCOUNTING,\n",
        "]\n",
        "\n",
        "auth_url = auth_client.get_authorization_url(scopes)\n",
        "client = QuickBooks(\n",
        "        auth_client= auth_client,\n",
        "        refresh_token= REFRESH_TOKEN,\n",
        "        company_id= COMPANY_ID,\n",
        "    )\n",
        "customers = Customer.all(qb=client)\n",
        "auth_header = 'Bearer {0}'.format(auth_client.access_token)\n",
        "headers = {\n",
        "    'Authorization': auth_header,\n",
        "    'Accept': 'application/json'\n",
        "}\n",
        "\n",
        "print(auth_header)"
      ],
      "metadata": {
        "colab": {
          "base_uri": "https://localhost:8080/",
          "height": 140
        },
        "id": "dB9N2-i52bjg",
        "outputId": "0e52def0-e911-437e-eee4-784bfd79370d"
      },
      "execution_count": null,
      "outputs": [
        {
          "output_type": "error",
          "ename": "SyntaxError",
          "evalue": "ignored",
          "traceback": [
            "\u001b[0;36m  File \u001b[0;32m\"<ipython-input-1-41ff2bff5fbb>\"\u001b[0;36m, line \u001b[0;32m11\u001b[0m\n\u001b[0;31m    COMPANY_ID =\u001b[0m\n\u001b[0m                 ^\u001b[0m\n\u001b[0;31mSyntaxError\u001b[0m\u001b[0;31m:\u001b[0m invalid syntax\n"
          ]
        }
      ]
    },
    {
      "cell_type": "code",
      "source": [
        "new_customer = Customer()\n",
        "new_customer.FamilyName = \"Luis\"\n",
        "new_customer.GivenName = \"Mejia\"\n",
        "\n",
        "new_customer.save(qb=client)\n",
        "\n",
        "print(new_customer.Id)"
      ],
      "metadata": {
        "id": "xFcR4x3IZVh7"
      },
      "execution_count": null,
      "outputs": []
    }
  ]
}