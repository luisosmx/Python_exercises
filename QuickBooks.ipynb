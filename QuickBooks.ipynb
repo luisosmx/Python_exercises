{
  "nbformat": 4,
  "nbformat_minor": 0,
  "metadata": {
    "colab": {
      "provenance": [],
      "authorship_tag": "ABX9TyO0mEYXzQdA6LZpHybNrPRt",
      "include_colab_link": true
    },
    "kernelspec": {
      "name": "python3",
      "display_name": "Python 3"
    },
    "language_info": {
      "name": "python"
    }
  },
  "cells": [
    {
      "cell_type": "markdown",
      "metadata": {
        "id": "view-in-github",
        "colab_type": "text"
      },
      "source": [
        "<a href=\"https://colab.research.google.com/github/luisosmx/Python_exercises/blob/main/QuickBooks.ipynb\" target=\"_parent\"><img src=\"https://colab.research.google.com/assets/colab-badge.svg\" alt=\"Open In Colab\"/></a>"
      ]
    },
    {
      "cell_type": "code",
      "execution_count": null,
      "metadata": {
        "id": "G0-biiMDE5IL"
      },
      "outputs": [],
      "source": [
        "!pip install intuit-oauth\n",
        "!pip install python-quickbooks"
      ]
    },
    {
      "cell_type": "code",
      "source": [
        "from intuitlib.client import AuthClient\n",
        "from intuitlib.enums import Scopes\n",
        "from quickbooks import QuickBooks\n",
        "from quickbooks.objects.customer import Customer"
      ],
      "metadata": {
        "id": "uynmBFJJ2YJV"
      },
      "execution_count": null,
      "outputs": []
    },
    {
      "cell_type": "code",
      "source": [
        "\n",
        "\n",
        "client_id = ''\n",
        "client_secret = ''\n",
        "redirect_uri = 'com.intuit.quickbooks.accounting'\n",
        "environment = 'sandbox'\n",
        "REFRESH_TOKEN = ''\n",
        "COMPANY_ID =\n",
        "\n",
        "auth_client = AuthClient(\n",
        "    client_id,\n",
        "    client_secret,\n",
        "    redirect_uri,\n",
        "    environment,\n",
        ")\n",
        "\n",
        "scopes = [\n",
        "    Scopes.ACCOUNTING,\n",
        "]\n",
        "\n",
        "auth_url = auth_client.get_authorization_url(scopes)\n",
        "client = QuickBooks(\n",
        "        auth_client= auth_client,\n",
        "        refresh_token= REFRESH_TOKEN,\n",
        "        company_id= COMPANY_ID,\n",
        "    )\n",
        "customers = Customer.all(qb=client)\n",
        "auth_header = 'Bearer {0}'.format(auth_client.access_token)\n",
        "headers = {\n",
        "    'Authorization': auth_header,\n",
        "    'Accept': 'application/json'\n",
        "}\n",
        "\n",
        "print(auth_header)"
      ],
      "metadata": {
        "id": "dB9N2-i52bjg"
      },
      "execution_count": null,
      "outputs": []
    }
  ]
}