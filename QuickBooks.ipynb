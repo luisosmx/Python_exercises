{
  "nbformat": 4,
  "nbformat_minor": 0,
  "metadata": {
    "colab": {
      "provenance": [],
      "authorship_tag": "ABX9TyOytxgXnBVZVEt/ZbO16OwJ",
      "include_colab_link": true
    },
    "kernelspec": {
      "name": "python3",
      "display_name": "Python 3"
    },
    "language_info": {
      "name": "python"
    }
  },
  "cells": [
    {
      "cell_type": "markdown",
      "metadata": {
        "id": "view-in-github",
        "colab_type": "text"
      },
      "source": [
        "<a href=\"https://colab.research.google.com/github/luisosmx/Python_exercises/blob/main/QuickBooks.ipynb\" target=\"_parent\"><img src=\"https://colab.research.google.com/assets/colab-badge.svg\" alt=\"Open In Colab\"/></a>"
      ]
    },
    {
      "cell_type": "code",
      "execution_count": null,
      "metadata": {
        "id": "G0-biiMDE5IL"
      },
      "outputs": [],
      "source": [
        "!pip install intuit-oauth\n",
        "!pip install python-quickbooks"
      ]
    },
    {
      "cell_type": "code",
      "source": [
        "from intuitlib.client import AuthClient\n",
        "from intuitlib.enums import Scopes\n",
        "from quickbooks import QuickBooks\n",
        "from quickbooks.objects.customer import Customer"
      ],
      "metadata": {
        "id": "uynmBFJJ2YJV"
      },
      "execution_count": null,
      "outputs": []
    },
    {
      "cell_type": "code",
      "source": [
        "!pip install intuit-oauth\n",
        "!pip install python-quickbooks\n",
        "\n",
        "from intuitlib.client import AuthClient\n",
        "from intuitlib.enums import Scopes\n",
        "from quickbooks import QuickBooks\n",
        "from quickbooks.objects.customer import Customer\n",
        "\n",
        "client_id = ''\n",
        "client_secret = ''\n",
        "redirect_uri = 'com.intuit.quickbooks.accounting'\n",
        "environment = 'sandbox'\n",
        "REFRESH_TOKEN = ''\n",
        "COMPANY_ID =\n",
        "\n",
        "auth_client = AuthClient(\n",
        "    client_id,\n",
        "    client_secret,\n",
        "    redirect_uri,\n",
        "    environment,\n",
        ")\n",
        "\n",
        "scopes = [\n",
        "    Scopes.ACCOUNTING,\n",
        "]\n",
        "\n",
        "auth_url = auth_client.get_authorization_url(scopes)\n",
        "client = QuickBooks(\n",
        "        auth_client= auth_client,\n",
        "        refresh_token= REFRESH_TOKEN,\n",
        "        company_id= COMPANY_ID,\n",
        "    )\n",
        "customers = Customer.all(qb=client)\n",
        "auth_header = 'Bearer {0}'.format(auth_client.access_token)\n",
        "headers = {\n",
        "    'Authorization': auth_header,\n",
        "    'Accept': 'application/json'\n",
        "}\n",
        "\n",
        "print(auth_header)\n",
        "\n",
        "new_customer = Customer()\n",
        "new_customer.FamilyName = \"Luis\"\n",
        "new_customer.GivenName = \"Mejia\"\n",
        "\n",
        "new_customer.save(qb=client)\n",
        "\n",
        "print(new_customer.Id)"
      ],
      "metadata": {
        "colab": {
          "base_uri": "https://localhost:8080/",
          "height": 140
        },
        "id": "dB9N2-i52bjg",
        "outputId": "0e52def0-e911-437e-eee4-784bfd79370d"
      },
      "execution_count": null,
      "outputs": [
        {
          "output_type": "error",
          "ename": "SyntaxError",
          "evalue": "ignored",
          "traceback": [
            "\u001b[0;36m  File \u001b[0;32m\"<ipython-input-1-41ff2bff5fbb>\"\u001b[0;36m, line \u001b[0;32m11\u001b[0m\n\u001b[0;31m    COMPANY_ID =\u001b[0m\n\u001b[0m                 ^\u001b[0m\n\u001b[0;31mSyntaxError\u001b[0m\u001b[0;31m:\u001b[0m invalid syntax\n"
          ]
        }
      ]
    },
    {
      "cell_type": "code",
      "source": [
        "new_customer = Customer()\n",
        "new_customer.FamilyName = \"Luis\"\n",
        "new_customer.GivenName = \"Mejia\"\n",
        "\n",
        "new_customer.save(qb=client)\n",
        "\n",
        "print(new_customer.Id)"
      ],
      "metadata": {
        "id": "xFcR4x3IZVh7"
      },
      "execution_count": null,
      "outputs": []
    },
    {
      "cell_type": "markdown",
      "source": [
        "## This is the Class"
      ],
      "metadata": {
        "id": "fRcZ6esg5CZ2"
      }
    },
    {
      "cell_type": "code",
      "source": [
        "from intuitlib.client import AuthClient\n",
        "from intuitlib.enums import Scopes\n",
        "from quickbooks import QuickBooks\n",
        "from quickbooks.objects.customer import Customer\n",
        "\n",
        "class QuickBooksManager_API:\n",
        "\n",
        "   def __init__(self, client_id, client_secret, redirect_uri, environment, refresh_token, company_id):\n",
        "       \"\"\"\n",
        "        Initializes QuickBooksManager with the provided credentials.\n",
        "\n",
        "        Parameters:\n",
        "            client_id (str): QuickBooks API client ID.\n",
        "            client_secret (str): QuickBooks API client secret.\n",
        "            redirect_uri (str): Redirect URI for authentication.\n",
        "            environment (str): QuickBooks environment ('sandbox' for testing, 'production' for live).\n",
        "            refresh_token (str): Refresh token for authentication.\n",
        "            company_id (str): QuickBooks company ID.\n",
        "        \"\"\"\n",
        "\n",
        "       self.client_id = client_id\n",
        "       self.client_secret = client_secret\n",
        "       self.redirect_uri = redirect_uri\n",
        "       self.environment = environment\n",
        "       self.refresh_token = refresh_token\n",
        "       self.company_id = company_id\n",
        "       self.auth_client = None\n",
        "       self.client = None\n",
        "       self.scopes = [Scopes.ACCOUNTING,]\n",
        "\n",
        "   def authenticate(self):\n",
        "\n",
        "       \"\"\"\n",
        "       Authenticates with the QuickBooks API.\n",
        "       \"\"\"\n",
        "       self.auth_client = AuthClient(\n",
        "           self.client_id,\n",
        "           self.client_secret,\n",
        "           self.redirect_uri,\n",
        "           self.environment,\n",
        "       )\n",
        "       self.client = QuickBooks(\n",
        "           auth_client=self.auth_client,\n",
        "           refresh_token=self.refresh_token,\n",
        "           company_id=self.company_id,\n",
        "       )\n",
        "\n",
        "   def add_customer(self, family_name, given_name):\n",
        "\n",
        "       \"\"\"\n",
        "       Adds a new customer to QuickBooks.\n",
        "\n",
        "       Parameters:\n",
        "            family_name (str): Family name of the customer.\n",
        "            given_name (str): Given name of the customer.\n",
        "\n",
        "       Returns:\n",
        "            str: The ID of the new customer.\n",
        "       \"\"\"\n",
        "       new_customer = Customer()\n",
        "       new_customer.FamilyName = family_name\n",
        "       new_customer.GivenName = given_name\n",
        "       new_customer.save(qb=self.client)\n",
        "       return new_customer.Id\n",
        "\n",
        "   def customer_names(self):\n",
        "\n",
        "      \"\"\"\n",
        "      Prints the names of all customers.\n",
        "      \"\"\"\n",
        "      customers = Customer.all(qb=self.client)\n",
        "      for customer in customers:\n",
        "          print(f\"{customer.GivenName} {customer.FamilyName}\")\n"
      ],
      "metadata": {
        "id": "gGvYrSrI4-Wm"
      },
      "execution_count": null,
      "outputs": []
    },
    {
      "cell_type": "code",
      "source": [
        "client_id = ''\n",
        "client_secret = ''\n",
        "redirect_uri = 'com.intuit.quickbooks.accounting'\n",
        "environment = 'sandbox'\n",
        "REFRESH_TOKEN = ''\n",
        "COMPANY_ID =\n",
        "\n",
        "family_name = 'Musk'\n",
        "given_name = 'Elon'\n",
        "\n",
        "manager = QuickBooksManager(client_id, client_secret, redirect_uri, environment, REFRESH_TOKEN, COMPANY_ID)\n",
        "manager.authenticate()\n",
        "customer_id = manager.add_customer(family_name, given_name)\n",
        "manager.customer_names()\n",
        "print(f'This is new customer ID {customer_id}')"
      ],
      "metadata": {
        "id": "ZwiB-kAO5Hrt"
      },
      "execution_count": null,
      "outputs": []
    }
  ]
}