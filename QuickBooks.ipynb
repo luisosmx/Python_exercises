{
  "nbformat": 4,
  "nbformat_minor": 0,
  "metadata": {
    "colab": {
      "provenance": [],
      "authorship_tag": "ABX9TyPZsWVhPRGAU+KxP1nLftDJ",
      "include_colab_link": true
    },
    "kernelspec": {
      "name": "python3",
      "display_name": "Python 3"
    },
    "language_info": {
      "name": "python"
    }
  },
  "cells": [
    {
      "cell_type": "markdown",
      "metadata": {
        "id": "view-in-github",
        "colab_type": "text"
      },
      "source": [
        "<a href=\"https://colab.research.google.com/github/luisosmx/Python_exercises/blob/main/QuickBooks.ipynb\" target=\"_parent\"><img src=\"https://colab.research.google.com/assets/colab-badge.svg\" alt=\"Open In Colab\"/></a>"
      ]
    },
    {
      "cell_type": "code",
      "execution_count": null,
      "metadata": {
        "id": "G0-biiMDE5IL"
      },
      "outputs": [],
      "source": [
        "!pip install intuit-oauth"
      ]
    },
    {
      "cell_type": "code",
      "source": [
        "from intuitlib.client import AuthClient\n",
        "from intuitlib.enums import Scopes\n",
        "\n",
        "client_id = ''\n",
        "client_secret = ''\n",
        "redirect_uri = 'https://developer.intuit.com/v2/OAuth2Playground/RedirectUrl'\n",
        "environment = 'sandbox'\n",
        "\n",
        "auth_client = AuthClient(\n",
        "    client_id,\n",
        "    client_secret,\n",
        "    redirect_uri,\n",
        "    environment,\n",
        ")\n",
        "\n",
        "url = auth_client.get_authorization_url([Scopes.ACCOUNTING])\n",
        "print(url)"
      ],
      "metadata": {
        "id": "DzBXdVV0FBHI"
      },
      "execution_count": null,
      "outputs": []
    }
  ]
}