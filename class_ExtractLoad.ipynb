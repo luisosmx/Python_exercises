{
  "nbformat": 4,
  "nbformat_minor": 0,
  "metadata": {
    "colab": {
      "provenance": [],
      "authorship_tag": "ABX9TyPe0XJ66ChO6my0/5qnl3uy",
      "include_colab_link": true
    },
    "kernelspec": {
      "name": "python3",
      "display_name": "Python 3"
    },
    "language_info": {
      "name": "python"
    }
  },
  "cells": [
    {
      "cell_type": "markdown",
      "metadata": {
        "id": "view-in-github",
        "colab_type": "text"
      },
      "source": [
        "<a href=\"https://colab.research.google.com/github/luisosmx/Python_exercises/blob/main/class_ExtractLoad.ipynb\" target=\"_parent\"><img src=\"https://colab.research.google.com/assets/colab-badge.svg\" alt=\"Open In Colab\"/></a>"
      ]
    },
    {
      "cell_type": "code",
      "source": [
        "!pip install google-cloud-storage\n",
        "!pip install pandas google-cloud-storage"
      ],
      "metadata": {
        "id": "iqTX2WjFfFEU"
      },
      "execution_count": null,
      "outputs": []
    },
    {
      "cell_type": "code",
      "execution_count": 23,
      "metadata": {
        "id": "SHAcKbnKrh6o"
      },
      "outputs": [],
      "source": [
        "from google.cloud import storage\n",
        "from google.cloud import bigquery\n",
        "import os\n",
        "import pandas as pd\n",
        "\n",
        "\n",
        "class ExtractLoad:\n",
        "\n",
        "  def __init__(self, bucket_name, object_name, destination, path_json, all_column_names, filter_column, path_json_load, table_id, schema):\n",
        "    self.bucket_name = bucket_name\n",
        "    self.object_name = object_name\n",
        "    self.destination = destination\n",
        "    self.path_json = path_json\n",
        "    self.all_column_names = all_column_names\n",
        "    self.filter_column = filter_column\n",
        "    self.path_json_load = path_json_load\n",
        "    self.table_id = table_id\n",
        "    self.schema = schema\n",
        "\n",
        "  def download_file(self):\n",
        "    os.environ['GOOGLE_APPLICATION_CREDENTIALS'] = self.path_json\n",
        "    storage_client = storage.Client()\n",
        "    bucket = storage_client.bucket(self.bucket_name)\n",
        "    blob = bucket.blob(self.object_name)\n",
        "    #Descarga el contenido del objeto como bytes\n",
        "    blob.download_to_filename(self.destination)\n",
        "    print(\"Archivo descargado como 'file.csv\")\n",
        "\n",
        "  def clean_file(self):\n",
        "    df = pd.read_csv(destination, encoding='latin-1')\n",
        "    column_names = df.columns.tolist()\n",
        "    filtered_column_names = [col for col in self.all_column_names if col in self.filter_column]\n",
        "    self.filtered_df = df.loc[:, filtered_column_names]\n",
        "    print('DataFrame is clean')\n",
        "    return self.filtered_df\n",
        "\n",
        "  def load_file(self):\n",
        "    os.environ['GOOGLE_APPLICATION_CREDENTIALS'] = path_json_load\n",
        "    client = bigquery.Client()\n",
        "    job_config = bigquery.LoadJobConfig(schema = schema, write_disposition=\"WRITE_TRUNCATE\")\n",
        "    job = client.load_table_from_dataframe(self.filtered_df, table_id, job_config=job_config)\n",
        "    job.result()\n",
        "    table = client.get_table(table_id)\n",
        "    print(\"Loaded {} rows and {} columns to {}\".format(table.num_rows, len(table.schema), table_id))\n"
      ]
    },
    {
      "cell_type": "code",
      "source": [
        "bucket_name = 'bucketdata_storage'\n",
        "object_name = '/content/inah_visitantes_zonas_general_anual_2023.csv'\n",
        "destination = '/content/file.csv'\n",
        "path_json = '/content/path.json'\n",
        "all_column_names = ['Estado', 'Clave SIINAH', 'Tipo', 'Centro INAH', 'enero', 'Unnamed: 5', 'febrero', 'Unnamed: 7', 'marzo', 'Unnamed: 9', 'abril', 'Unnamed: 11', 'mayo', 'Unnamed: 13', 'junio', 'Unnamed: 15', 'julio', 'Unnamed: 17']\n",
        "filter_column = ['estado', 'tipo', 'centro_inah', 'enero', 'febrero', 'marzo', 'abril', 'mayo', 'junio', 'julio']\n",
        "path_json_load = '/content/path.json'\n",
        "table_id = 'data-project-395314.data_project.inah_visitantes'\n",
        "schema = schema=[\n",
        "                bigquery.SchemaField(\"estado\", \"STRING\"),\n",
        "                bigquery.SchemaField(\"tipo\", \"STRING\"),\n",
        "                bigquery.SchemaField(\"centro_inah\", \"STRING\"),\n",
        "                bigquery.SchemaField(\"enero\", \"STRING\"),\n",
        "                bigquery.SchemaField(\"febrero\", \"STRING\"),\n",
        "                bigquery.SchemaField(\"marzo\", \"STRING\"),\n",
        "                bigquery.SchemaField(\"abril\", \"STRING\"),\n",
        "                bigquery.SchemaField(\"mayo\", \"STRING\"),\n",
        "                bigquery.SchemaField(\"junio\", \"STRING\"),\n",
        "                bigquery.SchemaField(\"julio\", \"STRING\"),\n",
        "                ]\n",
        "\n",
        "extract_load = ExtractLoad(bucket_name,\n",
        "                           object_name,\n",
        "                           destination,\n",
        "                           path_json,\n",
        "                           all_column_names,\n",
        "                           filter_column,\n",
        "                           path_json_load,\n",
        "                           table_id,\n",
        "                           schema)\n",
        "\n",
        "extract_load.download_file()\n",
        "extract_load.clean_file()\n",
        "extract_load.load_file()"
      ],
      "metadata": {
        "id": "VfuBi4jC1dvr"
      },
      "execution_count": null,
      "outputs": []
    },
    {
      "cell_type": "code",
      "source": [],
      "metadata": {
        "id": "mIQsAkqnhTtu"
      },
      "execution_count": null,
      "outputs": []
    }
  ]
}