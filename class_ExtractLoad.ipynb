{
  "nbformat": 4,
  "nbformat_minor": 0,
  "metadata": {
    "colab": {
      "provenance": [],
      "authorship_tag": "ABX9TyPxmyuWa070APk2e7UbqidB",
      "include_colab_link": true
    },
    "kernelspec": {
      "name": "python3",
      "display_name": "Python 3"
    },
    "language_info": {
      "name": "python"
    }
  },
  "cells": [
    {
      "cell_type": "markdown",
      "metadata": {
        "id": "view-in-github",
        "colab_type": "text"
      },
      "source": [
        "<a href=\"https://colab.research.google.com/github/luisosmx/Python_exercises/blob/main/class_ExtractLoad.ipynb\" target=\"_parent\"><img src=\"https://colab.research.google.com/assets/colab-badge.svg\" alt=\"Open In Colab\"/></a>"
      ]
    },
    {
      "cell_type": "code",
      "source": [
        "!pip install google-cloud-storage\n",
        "!pip install pandas google-cloud-storage"
      ],
      "metadata": {
        "id": "iqTX2WjFfFEU"
      },
      "execution_count": null,
      "outputs": []
    },
    {
      "cell_type": "code",
      "execution_count": null,
      "metadata": {
        "id": "SHAcKbnKrh6o"
      },
      "outputs": [],
      "source": [
        "from google.cloud import storage\n",
        "from google.cloud import bigquery\n",
        "import os\n",
        "import pandas as pd\n",
        "\n",
        "\n",
        "class ExtractLoad:\n",
        "\n",
        "  def __init__(self, bucket_name, object_name, destination, path_json, all_column_names, filter_column, path_json_load, table_id, schema):\n",
        "    self.bucket_name = bucket_name\n",
        "    self.object_name = object_name\n",
        "    self.destination = destination\n",
        "    self.path_json = path_json\n",
        "    self.all_column_names = all_column_names\n",
        "    self.filter_column = filter_column\n",
        "    self.path_json_load = path_json_load\n",
        "    self.table_id = table_id\n",
        "    self.schema = schema\n",
        "\n",
        "  def download_file(self):\n",
        "    os.environ['GOOGLE_APPLICATION_CREDENTIALS'] = self.path_json\n",
        "    storage_client = storage.Client()\n",
        "    bucket = storage_client.bucket(self.bucket_name)\n",
        "    blob = bucket.blob(self.object_name)\n",
        "    #Descarga el contenido del objeto como bytes\n",
        "    blob.download_to_filename(self.destination)\n",
        "    print(\"Archivo descargado como 'file.csv\")\n",
        "\n",
        "  def clean_file(self):\n",
        "    df = pd.read_csv(destination, encoding='latin-1')\n",
        "    column_names = df.columns.tolist()\n",
        "    filtered_column_names = [col for col in self.all_column_names if col in self.filter_column]\n",
        "    self.filtered_df = df.loc[:, filtered_column_names]\n",
        "    print('DataFrame is clean')\n",
        "    return self.filtered_df\n",
        "\n",
        "  def load_file(self):\n",
        "    os.environ['GOOGLE_APPLICATION_CREDENTIALS'] = path_json_load\n",
        "    client = bigquery.Client()\n",
        "    job_config = bigquery.LoadJobConfig(schema = schema, write_disposition=\"WRITE_TRUNCATE\")\n",
        "    job = client.load_table_from_dataframe(self.filtered_df, table_id, job_config=job_config)\n",
        "    job.result()\n",
        "    table = client.get_table(table_id)\n",
        "    print(\"Loaded {} rows and {} columns to {}\".format(table.num_rows, len(table.schema), table_id))\n",
        "\n",
        "\n"
      ]
    },
    {
      "cell_type": "code",
      "source": [
        "bucket_name = 'data_test_storage'\n",
        "object_name = '/data_test_storage/afluenciastc_simple_01_2023.csv'\n",
        "destination = '/content/afluentastic.csv'\n",
        "path_json = '/content/data-project-395314-5a78f72435a4.json'\n",
        "all_column_names = ['fecha', 'anio', 'mes', 'linea', 'estacion', 'afluencia']\n",
        "filter_column = ['date', 'year', 'month', 'line', 'station', 'influx']\n",
        "path_json_load = '/content/path.json'\n",
        "table_id = 'data-project-395314.data_project.influx_cdmx'\n",
        "schema = schema=[\n",
        "                bigquery.SchemaField(\"date\", \"STRING\"),\n",
        "                bigquery.SchemaField(\"year\", \"STRING\"),\n",
        "                bigquery.SchemaField(\"month\", \"STRING\"),\n",
        "                bigquery.SchemaField(\"line\", \"STRING\"),\n",
        "                bigquery.SchemaField(\"station\", \"STRING\"),\n",
        "                bigquery.SchemaField(\"influx\", \"STRING\")\n",
        "                ]\n",
        "\n",
        "extract_load = ExtractLoad(bucket_name,\n",
        "                           object_name,\n",
        "                           destination,\n",
        "                           path_json,\n",
        "                           all_column_names,\n",
        "                           filter_column,\n",
        "                           path_json_load,\n",
        "                           table_id,\n",
        "                           schema)\n",
        "\n",
        "extract_load.download_file()\n",
        "extract_load.clean_file()\n",
        "extract_load.load_file()"
      ],
      "metadata": {
        "id": "VfuBi4jC1dvr"
      },
      "execution_count": null,
      "outputs": []
    },
    {
      "cell_type": "code",
      "source": [
        "from google.cloud import storage, bigquery\n",
        "import os\n",
        "import csv\n",
        "import json\n",
        "import pandas as pd\n",
        "\n",
        "class ExtractLoadStorageDF:\n",
        "    def __init__(self, bucket_name, object_name, destination, path_json, all_column_names, filter_column, table_id, schema, dataset_id):\n",
        "        self.bucket_name = bucket_name\n",
        "        self.object_name = object_name\n",
        "        self.destination = destination\n",
        "        self.path_json = path_json\n",
        "        self.all_column_names = all_column_names\n",
        "        self.filter_column = filter_column\n",
        "        self.table_id = table_id\n",
        "        self.schema = schema\n",
        "        self.dataset_id = dataset_id\n",
        "\n",
        "    def download_file(self):\n",
        "        os.environ['GOOGLE_APPLICATION_CREDENTIALS'] = self.path_json\n",
        "        storage_client = storage.Client()\n",
        "        bucket = storage_client.bucket(self.bucket_name)\n",
        "        blob = bucket.blob(self.object_name)\n",
        "        blob.download_to_filename(self.destination)\n",
        "        print(\"Archivo descargado como 'file.csv'\")\n",
        "\n",
        "    def clean_file(self):\n",
        "        df = pd.read_csv(self.destination, encoding='latin-1')\n",
        "        column_names = df.columns.tolist()\n",
        "        filtered_column_names = [col for col in self.all_column_names if col in self.filter_column]\n",
        "        self.filtered_df = df.loc[:, filtered_column_names]\n",
        "        print('DataFrame is clean')\n",
        "        return self.filtered_df\n",
        "\n",
        "    def load_file(self):\n",
        "        os.environ['GOOGLE_APPLICATION_CREDENTIALS'] = self.path_json\n",
        "        client = bigquery.Client()\n",
        "        job_config = bigquery.LoadJobConfig(schema=self.schema, write_disposition=\"WRITE_TRUNCATE\")\n",
        "        job = client.load_table_from_dataframe(self.filtered_df, self.table_id, job_config=job_config)\n",
        "        job.result()\n",
        "        table = client.get_table(self.table_id)\n",
        "        print(\"Loaded {} rows and {} columns to {}\".format(table.num_rows, len(table.schema), self.table_id))\n",
        "\n",
        "\n",
        "class ExtractLoadStorageJson(ExtractLoadStorageDF):\n",
        "    def __init__(self, bucket_name, object_name, destination, path_json, all_column_names, filter_column, table_id, schema, dataset_id, keys_json):\n",
        "        super().__init__(bucket_name, object_name, destination, path_json, all_column_names, filter_column, table_id, schema, dataset_id)\n",
        "        self.keys_json = keys_json\n",
        "    def clean_file(self):\n",
        "        csv_data = []\n",
        "        with open(destination, 'r', encoding='ISO-8859-1') as csv_file:\n",
        "            csv_reader = csv.DictReader(csv_file)\n",
        "            for row in csv_reader:\n",
        "                csv_data.append(row)\n",
        "\n",
        "\n",
        "        for item in csv_data:\n",
        "            for old_key, new_key in self.keys_json.items():\n",
        "                if old_key in item:\n",
        "                    item[new_key] = item.pop(old_key)\n",
        "\n",
        "        self.modified_json = json.dumps(csv_data, indent=4)\n",
        "\n",
        "    def load_file(self):\n",
        "        os.environ['GOOGLE_APPLICATION_CREDENTIALS'] = self.path_json\n",
        "        data = json.loads(self.modified_json)\n",
        "        client = bigquery.Client()\n",
        "        table_ref = client.dataset(self.dataset_id).table(self.table_id)\n",
        "        job_config = bigquery.LoadJobConfig()\n",
        "        job_config.write_disposition = bigquery.WriteDisposition.WRITE_APPEND  # Puedes ajustar esto según tus necesidades\n",
        "        job_config.source_format = bigquery.SourceFormat.NEWLINE_DELIMITED_JSON\n",
        "        load_job = client.load_table_from_json(data, table_ref, job_config=job_config)\n",
        "        load_job.result()\n",
        "        print(\"Carga completada en la tabla: {}.{}\".format(dataset_id, table_id))\n",
        "\n",
        "\n"
      ],
      "metadata": {
        "id": "mIQsAkqnhTtu"
      },
      "execution_count": null,
      "outputs": []
    },
    {
      "cell_type": "code",
      "source": [
        "# Main code\n",
        "bucket_name = 'data_test_storage'\n",
        "object_name = 'afluenciastc_simple_01_2023.csv'\n",
        "destination = '/content/afluentastic.csv'\n",
        "path_json = '/content/data-project-395314-5a78f72435a4.json'\n",
        "all_column_names = ['fecha', 'anio', 'mes', 'linea', 'estacion', 'afluencia']\n",
        "filter_column = ['date', 'year', 'month', 'line', 'station', 'influx']\n",
        "table_id = 'influx_cdmx'\n",
        "dataset_id = 'data_project'\n",
        "keys_json = {'date': 'date',\n",
        "             'year': 'year',\n",
        "             'month': 'month',\n",
        "             'line': 'line',\n",
        "             'station': 'station',\n",
        "             'influx': 'influx'}\n",
        "schema = schema=[\n",
        "                bigquery.SchemaField(\"date\", \"STRING\"),\n",
        "                bigquery.SchemaField(\"year\", \"STRING\"),\n",
        "                bigquery.SchemaField(\"month\", \"STRING\"),\n",
        "                bigquery.SchemaField(\"line\", \"STRING\"),\n",
        "                bigquery.SchemaField(\"station\", \"STRING\"),\n",
        "                bigquery.SchemaField(\"influx\", \"STRING\")\n",
        "                ]\n",
        "\n",
        "\n",
        "extract_load_instance = ExtractLoadStorageJson(bucket_name,\n",
        "                                               object_name,\n",
        "                                               destination,\n",
        "                                               path_json,\n",
        "                                               all_column_names,\n",
        "                                               filter_column,\n",
        "                                               table_id,\n",
        "                                               schema,\n",
        "                                               dataset_id,\n",
        "                                               keys_json\n",
        "                                               )\n",
        "extract_load_instance.download_file()\n",
        "extract_load_instance.clean_file()\n",
        "extract_load_instance.load_file()"
      ],
      "metadata": {
        "colab": {
          "base_uri": "https://localhost:8080/"
        },
        "id": "wdmepCyA9tJo",
        "outputId": "14bbdc5b-8890-45bd-e1cd-22d9178a9b41"
      },
      "execution_count": null,
      "outputs": [
        {
          "output_type": "stream",
          "name": "stdout",
          "text": [
            "Archivo descargado como 'file.csv'\n",
            "Carga completada en la tabla: data_project.influx_cdmx\n"
          ]
        }
      ]
    },
    {
      "cell_type": "markdown",
      "source": [
        "La clase ExtractLoadStorageDF:\n",
        "\n",
        "    Se inicializa con varios parámetros, incluyendo nombres de bucket y objeto en Cloud Storage, destino para la descarga del archivo, ruta al archivo JSON de credenciales, nombres de columnas, nombre de columna de filtro, ID de tabla, esquema, e ID de conjunto de datos en BigQuery.\n",
        "    El método download_file utiliza las credenciales proporcionadas para descargar un archivo desde el bucket especificado en Cloud Storage.\n",
        "    El método clean_file lee el archivo CSV descargado, filtra las columnas según lo definido en filter_column, y devuelve un DataFrame limpio.\n",
        "    El método load_file carga el DataFrame limpio en BigQuery con opciones para manejar cómo se debe cargar la información y cómo se debe comportar si la tabla ya existe.\n",
        "\n",
        "La clase ExtractLoadStorageJson (que hereda de ExtractLoadStorageDF):\n",
        "\n",
        "    Agrega un parámetro adicional, keys_json, que mapea nombres de claves en el JSON a ser cargado con los nombres de claves deseados en el resultado final.\n",
        "    El método clean_file en esta clase lee un archivo CSV, realiza la transformación de las claves según el mapeo en keys_json, y genera un JSON modificado.\n",
        "    El método load_file carga el JSON modificado en BigQuery, permitiendo anexar los datos a una tabla existente si es necesario."
      ],
      "metadata": {
        "id": "mnUcrIT-syt-"
      }
    },
    {
      "cell_type": "code",
      "source": [],
      "metadata": {
        "id": "RUTx-2aYFEOC"
      },
      "execution_count": null,
      "outputs": []
    }
  ]
}